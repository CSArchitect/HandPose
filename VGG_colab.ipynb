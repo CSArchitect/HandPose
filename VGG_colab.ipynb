{
  "nbformat": 4,
  "nbformat_minor": 0,
  "metadata": {
    "colab": {
      "name": "VGG.ipynb",
      "version": "0.3.2",
      "provenance": [],
      "collapsed_sections": []
    },
    "kernelspec": {
      "name": "python3",
      "display_name": "Python 3"
    },
    "accelerator": "GPU"
  },
  "cells": [
    {
      "metadata": {
        "scrolled": false,
        "id": "JB0baaCbkbge",
        "colab_type": "code",
        "colab": {}
      },
      "cell_type": "code",
      "source": [
        "import torch\n",
        "import torch.nn as nn\n",
        "import torch.optim as optim\n",
        "from torch.optim import lr_scheduler\n",
        "from torch.autograd import Variable\n",
        "from torch.utils.data import DataLoader\n",
        "from torch.utils.data import sampler\n",
        "import importlib\n",
        "import time\n",
        "\n",
        "import os\n",
        "import os.path as osp\n",
        "import copy\n",
        "\n",
        "import torchvision.datasets as dset\n",
        "import torchvision.transforms as transforms\n",
        "import torchvision.models as models\n",
        "\n",
        "import numpy as np\n",
        "\n",
        "import timeit\n",
        "#import customDataset\n",
        "#from customDataset import CustomDataset\n",
        "from importlib import reload\n",
        "\n",
        "\n",
        "# for google colab runs\n",
        "#!unzip \"vgg-train\""
      ],
      "execution_count": 0,
      "outputs": []
    },
    {
      "metadata": {
        "scrolled": false,
        "id": "LAv8YfDKkbgh",
        "colab_type": "code",
        "colab": {
          "base_uri": "https://localhost:8080/",
          "height": 34
        },
        "outputId": "b1642159-29d7-4297-caf7-0e8dada9abed"
      },
      "cell_type": "code",
      "source": [
        "class ChunkSampler(sampler.Sampler):\n",
        "    \"\"\"Samples elements sequentially from some offset. \n",
        "    Arguments:\n",
        "        num_samples: # of desired datapoints\n",
        "        start: offset where we should start selecting from\n",
        "    \"\"\"\n",
        "    def __init__(self, num_samples, start = 0):\n",
        "        self.num_samples = num_samples\n",
        "        self.start = start\n",
        "\n",
        "    def __iter__(self):\n",
        "        return iter(range(self.start, self.start + self.num_samples))\n",
        "\n",
        "    def __len__(self):\n",
        "        return self.num_samples\n",
        "\n",
        "use_gpu = torch.cuda.is_available()\n",
        "if use_gpu:\n",
        "    print(\"Using CUDA\")"
      ],
      "execution_count": 2,
      "outputs": [
        {
          "output_type": "stream",
          "text": [
            "Using CUDA\n"
          ],
          "name": "stdout"
        }
      ]
    },
    {
      "metadata": {
        "scrolled": true,
        "id": "W4yj2_OTkbgn",
        "colab_type": "code",
        "colab": {
          "base_uri": "https://localhost:8080/",
          "height": 105
        },
        "outputId": "3329d8d1-2532-4bc6-bf37-63f7b3c8eb13"
      },
      "cell_type": "code",
      "source": [
        "data_dir = 'vgg-train'\n",
        "TRAIN = 'train'\n",
        "VAL = 'val'\n",
        "TEST = 'test'\n",
        "\n",
        "data_transforms = {\n",
        "    TRAIN: transforms.Compose([\n",
        "        transforms.CenterCrop(224),\n",
        "        transforms.RandomHorizontalFlip(),\n",
        "        transforms.ToTensor(),\n",
        "    ]),\n",
        "    VAL: transforms.Compose([\n",
        "        transforms.Resize(256),\n",
        "        transforms.CenterCrop(224),\n",
        "        transforms.ToTensor(),\n",
        "    ]),\n",
        "    TEST: transforms.Compose([\n",
        "        transforms.Resize(256),\n",
        "        transforms.CenterCrop(224),\n",
        "        transforms.ToTensor(),\n",
        "    ])\n",
        "}\n",
        "\n",
        "image_datasets = {\n",
        "    x: dset.ImageFolder(\n",
        "        osp.join(data_dir, x), \n",
        "        transform=data_transforms[x]\n",
        "    )\n",
        "    for x in [TRAIN, VAL, TEST]\n",
        "}\n",
        "\n",
        "dataloaders = {\n",
        "    x: torch.utils.data.DataLoader(\n",
        "        image_datasets[x], batch_size=16,\n",
        "        shuffle=True    \n",
        "    )\n",
        "    for x in [TRAIN, VAL, TEST]\n",
        "}\n",
        "\n",
        "dataset_sizes = {x: len(image_datasets[x]) for x in [TRAIN, VAL, TEST]}\n",
        "\n",
        "for x in [TRAIN, VAL, TEST]:\n",
        "    print(\"Loaded {} images under {}\".format(dataset_sizes[x], x))\n",
        "    \n",
        "print(\"Classes: \")\n",
        "class_names = image_datasets[TRAIN].classes\n",
        "print(image_datasets[TRAIN].classes)"
      ],
      "execution_count": 3,
      "outputs": [
        {
          "output_type": "stream",
          "text": [
            "Loaded 251 images under train\n",
            "Loaded 125 images under val\n",
            "Loaded 125 images under test\n",
            "Classes: \n",
            "['0', '1', '2', '3', '4', '5']\n"
          ],
          "name": "stdout"
        }
      ]
    },
    {
      "metadata": {
        "scrolled": false,
        "id": "QqwLcIhWkbgw",
        "colab_type": "code",
        "colab": {}
      },
      "cell_type": "code",
      "source": [
        "class Flatten(nn.Module):\n",
        "    def forward(self, x):\n",
        "        N, C, H, W = x.size() # read in N, C, H, W\n",
        "        return x.view(N, -1)  # \"flatten\" the C * H * W values into a single vector per image"
      ],
      "execution_count": 0,
      "outputs": []
    },
    {
      "metadata": {
        "scrolled": false,
        "id": "DRGzYCagkbgy",
        "colab_type": "code",
        "colab": {}
      },
      "cell_type": "code",
      "source": [
        "def train_model(vgg, criterion, optimizer, scheduler, num_epochs=10, save=False, save_filename=\"\"):\n",
        "    since = time.time()\n",
        "    best_model_wts = copy.deepcopy(vgg.state_dict())\n",
        "    best_acc = 0.0\n",
        "    \n",
        "    avg_loss = 0\n",
        "    avg_acc = 0\n",
        "    avg_loss_val = 0\n",
        "    avg_acc_val = 0\n",
        "    \n",
        "    train_batches = len(dataloaders[TRAIN])\n",
        "    val_batches = len(dataloaders[VAL])\n",
        "    torch.cuda.empty_cache()\n",
        "    \n",
        "    for epoch in range(num_epochs):\n",
        "        print(\"Epoch {}/{}\".format(epoch + 1, num_epochs))\n",
        "        print('-' * 10)\n",
        "        \n",
        "        loss_train = 0\n",
        "        loss_val = 0\n",
        "        acc_train = 0\n",
        "        acc_val = 0\n",
        "        \n",
        "        vgg.train(True)\n",
        "        \n",
        "        for i, data in enumerate(dataloaders[TRAIN]):\n",
        "            if i % 5 == 0:\n",
        "                torch.cuda.empty_cache()\n",
        "#                 print(\"\\rTraining batch {}/{}\".format(i, train_batches / 2), end='', flush=True)\n",
        "                \n",
        "            # Use half training dataset\n",
        "#             if i >= train_batches / 2:\n",
        "#                 break\n",
        "                \n",
        "            inputs, labels = data\n",
        "            \n",
        "            if use_gpu:\n",
        "                inputs, labels = Variable(inputs.cuda()), Variable(labels.cuda())\n",
        "            else:\n",
        "                inputs, labels = Variable(inputs), Variable(labels)\n",
        "            \n",
        "            optimizer.zero_grad()\n",
        "            \n",
        "            outputs = vgg(inputs)\n",
        "            _, preds = torch.max(outputs.data, 1)\n",
        "            loss = criterion(outputs, labels)\n",
        "            \n",
        "            loss.backward()\n",
        "            optimizer.step()\n",
        "            \n",
        "#             print(\"preds: \", preds)\n",
        "#             print(\"labels.data: \", labels.data)\n",
        "#             print(preds == labels.data)\n",
        "#             print()\n",
        "            \n",
        "            loss_train += loss.data\n",
        "            acc_train += torch.sum(preds == labels.data)\n",
        "            \n",
        "            del inputs, labels, outputs, preds\n",
        "            torch.cuda.empty_cache()\n",
        "        \n",
        "        \n",
        "        #print()\n",
        "        # * 2 as we only used half of the dataset\n",
        "        avg_loss = loss_train  / dataset_sizes[TRAIN]\n",
        "        avg_acc = acc_train.item()  / dataset_sizes[TRAIN]\n",
        "        \n",
        "        vgg.train(False)\n",
        "        vgg.eval()\n",
        "            \n",
        "        for i, data in enumerate(dataloaders[VAL]):\n",
        "#             if i % 10 == 0:\n",
        "#                 print(\"\\rValidation batch {}/{}\".format(i, val_batches), end='', flush=True)\n",
        "                \n",
        "            inputs, labels = data\n",
        "            \n",
        "            if use_gpu:\n",
        "                inputs, labels = Variable(inputs.cuda(), volatile=True), Variable(labels.cuda(), volatile=True)\n",
        "            else:\n",
        "                inputs, labels = Variable(inputs, volatile=True), Variable(labels, volatile=True)\n",
        "            \n",
        "            optimizer.zero_grad()\n",
        "            \n",
        "            outputs = vgg(inputs)\n",
        "            \n",
        "            _, preds = torch.max(outputs.data, 1)\n",
        "            loss = criterion(outputs, labels)\n",
        "            \n",
        "            loss_val += loss.data\n",
        "            acc_val += torch.sum(preds == labels.data)\n",
        "            \n",
        "            del inputs, labels, outputs, preds\n",
        "            torch.cuda.empty_cache()\n",
        "        \n",
        "\n",
        "        avg_loss_val = loss_val / dataset_sizes[VAL]\n",
        "        avg_acc_val = acc_val.item() / dataset_sizes[VAL]\n",
        "        \n",
        "        print()\n",
        "        print(\"Epoch {} result: \".format(epoch + 1))\n",
        "        print(\"Avg loss (train): {:.4f}\".format(avg_loss))\n",
        "        print(\"Avg acc (train): {:.4f}\".format(avg_acc))\n",
        "        print(\"Avg loss (val): {:.4f}\".format(avg_loss_val))\n",
        "        print(\"Avg acc (val): {:.4f}\".format(avg_acc_val))\n",
        "        print('-' * 10)\n",
        "#         print(\"avg_acc_val\", avg_acc_val)\n",
        "        print()\n",
        "        \n",
        "        if avg_acc_val > best_acc:\n",
        "            best_acc = avg_acc_val\n",
        "            best_model_wts = copy.deepcopy(vgg.state_dict())\n",
        "        \n",
        "    elapsed_time = time.time() - since\n",
        "    print()\n",
        "    print(\"Training completed in {:.0f}m {:.0f}s\".format(elapsed_time // 60, elapsed_time % 60))\n",
        "    print(\"Best acc: {:.4f}\".format(best_acc))\n",
        "    \n",
        "    vgg.load_state_dict(best_model_wts)\n",
        "    if(save):\n",
        "      torch.save(best_model_wts, save_filename)\n",
        "    return vgg"
      ],
      "execution_count": 0,
      "outputs": []
    },
    {
      "metadata": {
        "scrolled": false,
        "id": "1VK-xI_okbg1",
        "colab_type": "code",
        "colab": {
          "base_uri": "https://localhost:8080/",
          "height": 1865
        },
        "outputId": "2d4681ef-8dd7-47fe-a7b0-5f36668c88c8"
      },
      "cell_type": "code",
      "source": [
        "torch.cuda.empty_cache()\n",
        "gpu_dtype = torch.cuda.FloatTensor\n",
        "\n",
        "def get_vgg19(num_classes):\n",
        "    net = models.vgg19_bn(pretrained=False)\n",
        "    net.classifier = nn.Sequential(\n",
        "        nn.Linear(25088, 4096),\n",
        "        nn.ReLU(True),\n",
        "        nn.BatchNorm1d(4096),\n",
        "        nn.Dropout(),\n",
        "        nn.Linear(4096, 2048),\n",
        "        nn.ReLU(True),\n",
        "        nn.BatchNorm1d(2048),\n",
        "        nn.Dropout(),\n",
        "        nn.Linear(2048, num_classes),\n",
        "    )\n",
        "    return net.type(gpu_dtype)\n",
        "\n",
        "vgg19 = get_vgg19(6) #this fixes the issue where vgg19 outputs 1000 classifiers and now outputs n classifiers in get_vgg(n)\n",
        "vgg19.cuda()\n",
        "\n",
        "loss_fn = torch.nn.CrossEntropyLoss()\n",
        "optimizer = optim.Adam(vgg19.parameters(), lr=0.05)\n",
        "exp_lr_scheduler = lr_scheduler.StepLR(optimizer, step_size=1, gamma=0.1)\n",
        "\n",
        "vgg19 = train_model(vgg19, loss_fn, optimizer, exp_lr_scheduler, num_epochs=10)\n",
        "#saved version // remember to change the filename\n",
        "#vgg19 = train_model(vgg19, loss_fn, optimizer, exp_lr_scheduler, num_epochs=125, save=True, save_filename='VGG16_bn_125_epoch.pt')"
      ],
      "execution_count": 8,
      "outputs": [
        {
          "output_type": "stream",
          "text": [
            "Epoch 1/10\n",
            "----------\n"
          ],
          "name": "stdout"
        },
        {
          "output_type": "stream",
          "text": [
            "/usr/local/lib/python3.6/dist-packages/ipykernel_launcher.py:78: UserWarning: volatile was removed and now has no effect. Use `with torch.no_grad():` instead.\n"
          ],
          "name": "stderr"
        },
        {
          "output_type": "stream",
          "text": [
            "\n",
            "Epoch 1 result: \n",
            "Avg loss (train): 0.7555\n",
            "Avg acc (train): 0.1992\n",
            "Avg loss (val): 134.5471\n",
            "Avg acc (val): 0.3600\n",
            "----------\n",
            "\n",
            "Epoch 2/10\n",
            "----------\n",
            "\n",
            "Epoch 2 result: \n",
            "Avg loss (train): 0.7314\n",
            "Avg acc (train): 0.2590\n",
            "Avg loss (val): 212.9449\n",
            "Avg acc (val): 0.2960\n",
            "----------\n",
            "\n",
            "Epoch 3/10\n",
            "----------\n",
            "\n",
            "Epoch 3 result: \n",
            "Avg loss (train): 0.8056\n",
            "Avg acc (train): 0.2430\n",
            "Avg loss (val): 207.6880\n",
            "Avg acc (val): 0.3280\n",
            "----------\n",
            "\n",
            "Epoch 4/10\n",
            "----------\n",
            "\n",
            "Epoch 4 result: \n",
            "Avg loss (train): 0.6783\n",
            "Avg acc (train): 0.2629\n",
            "Avg loss (val): 9.7392\n",
            "Avg acc (val): 0.3680\n",
            "----------\n",
            "\n",
            "Epoch 5/10\n",
            "----------\n",
            "\n",
            "Epoch 5 result: \n",
            "Avg loss (train): 0.6640\n",
            "Avg acc (train): 0.2390\n",
            "Avg loss (val): 2.7824\n",
            "Avg acc (val): 0.3040\n",
            "----------\n",
            "\n",
            "Epoch 6/10\n",
            "----------\n",
            "\n",
            "Epoch 6 result: \n",
            "Avg loss (train): 0.4842\n",
            "Avg acc (train): 0.2789\n",
            "Avg loss (val): 0.8159\n",
            "Avg acc (val): 0.3760\n",
            "----------\n",
            "\n",
            "Epoch 7/10\n",
            "----------\n",
            "\n",
            "Epoch 7 result: \n",
            "Avg loss (train): 0.5909\n",
            "Avg acc (train): 0.2430\n",
            "Avg loss (val): 10.0260\n",
            "Avg acc (val): 0.3600\n",
            "----------\n",
            "\n",
            "Epoch 8/10\n",
            "----------\n",
            "\n",
            "Epoch 8 result: \n",
            "Avg loss (train): 0.5940\n",
            "Avg acc (train): 0.2749\n",
            "Avg loss (val): 5.5612\n",
            "Avg acc (val): 0.3440\n",
            "----------\n",
            "\n",
            "Epoch 9/10\n",
            "----------\n",
            "\n",
            "Epoch 9 result: \n",
            "Avg loss (train): 0.4862\n",
            "Avg acc (train): 0.2829\n",
            "Avg loss (val): 0.4552\n",
            "Avg acc (val): 0.2240\n",
            "----------\n",
            "\n",
            "Epoch 10/10\n",
            "----------\n",
            "\n",
            "Epoch 10 result: \n",
            "Avg loss (train): 0.7051\n",
            "Avg acc (train): 0.2390\n",
            "Avg loss (val): 0.3981\n",
            "Avg acc (val): 0.3120\n",
            "----------\n",
            "\n",
            "\n",
            "Training completed in 5m 45s\n",
            "Best acc: 0.3760\n"
          ],
          "name": "stdout"
        }
      ]
    },
    {
      "metadata": {
        "scrolled": false,
        "id": "tA5dztjlkbhA",
        "colab_type": "code",
        "colab": {
          "base_uri": "https://localhost:8080/",
          "height": 354
        },
        "outputId": "b06f9520-a7b1-4a81-d529-aac80f5f022d"
      },
      "cell_type": "code",
      "source": [
        "def check_accuracy(model, loader):\n",
        "#     if loader.dataset.train:\n",
        "#         print('Checking accuracy on validation set')\n",
        "#     else:\n",
        "#         print('Checking accuracy on test set')   \n",
        "    num_correct = 0\n",
        "    num_samples = 0\n",
        "    model.train(False)\n",
        "    model.eval() # Put the model in test mode (the opposite of model.train(), essentially)\n",
        "    for x, y in loader:\n",
        "        x_var = Variable(x.type(gpu_dtype), volatile=True)\n",
        "\n",
        "        scores = model(x_var)\n",
        "        _, preds = scores.data.cpu().max(1)\n",
        "        print(preds)\n",
        "        num_correct += (preds == y).sum()\n",
        "        num_samples += preds.size(0)\n",
        "    acc = float(num_correct) / num_samples\n",
        "    print('Got %d / %d correct (%.2f)' % (num_correct, num_samples, 100 * acc))\n",
        "    \n",
        "    \n",
        "check_accuracy(vgg19, dataloaders[TRAIN])"
      ],
      "execution_count": 9,
      "outputs": [
        {
          "output_type": "stream",
          "text": [
            "/usr/local/lib/python3.6/dist-packages/ipykernel_launcher.py:11: UserWarning: volatile was removed and now has no effect. Use `with torch.no_grad():` instead.\n",
            "  # This is added back by InteractiveShellApp.init_path()\n"
          ],
          "name": "stderr"
        },
        {
          "output_type": "stream",
          "text": [
            "tensor([5, 5, 5, 5, 5, 5, 5, 5, 5, 5, 5, 5, 5, 5, 5, 5])\n",
            "tensor([5, 5, 5, 5, 5, 5, 5, 5, 5, 5, 5, 5, 5, 5, 5, 5])\n",
            "tensor([5, 5, 5, 5, 5, 5, 5, 5, 5, 5, 5, 5, 5, 5, 2, 5])\n",
            "tensor([5, 5, 5, 5, 5, 5, 5, 5, 5, 5, 5, 5, 5, 5, 5, 5])\n",
            "tensor([5, 4, 5, 5, 5, 5, 5, 5, 5, 5, 5, 5, 4, 5, 4, 1])\n",
            "tensor([5, 5, 5, 5, 5, 5, 5, 5, 5, 5, 5, 5, 5, 5, 5, 4])\n",
            "tensor([5, 5, 5, 5, 5, 5, 5, 5, 5, 5, 4, 5, 5, 5, 5, 5])\n",
            "tensor([5, 5, 5, 5, 5, 5, 5, 5, 5, 5, 5, 5, 5, 5, 5, 5])\n",
            "tensor([5, 5, 5, 5, 5, 5, 5, 5, 5, 5, 5, 5, 5, 5, 5, 5])\n",
            "tensor([5, 5, 5, 5, 5, 5, 5, 5, 5, 5, 5, 5, 5, 5, 5, 5])\n",
            "tensor([5, 5, 5, 5, 5, 5, 5, 5, 5, 5, 5, 5, 5, 5, 5, 5])\n",
            "tensor([5, 5, 5, 5, 5, 5, 5, 5, 5, 5, 5, 5, 5, 5, 5, 5])\n",
            "tensor([5, 5, 5, 5, 5, 5, 5, 4, 5, 5, 5, 5, 5, 5, 5, 5])\n",
            "tensor([5, 5, 5, 5, 5, 5, 5, 5, 4, 5, 5, 5, 5, 5, 5, 5])\n",
            "tensor([5, 5, 5, 5, 5, 5, 5, 5, 4, 5, 5, 5, 5, 5, 5, 5])\n",
            "tensor([5, 5, 5, 5, 5, 5, 5, 5, 5, 5, 5])\n",
            "Got 82 / 251 correct (32.67)\n"
          ],
          "name": "stdout"
        }
      ]
    },
    {
      "metadata": {
        "scrolled": true,
        "id": "DTQIOl-EkbhD",
        "colab_type": "code",
        "colab": {
          "base_uri": "https://localhost:8080/",
          "height": 212
        },
        "outputId": "f0d0187c-f61c-47ea-dbd6-765a0bb86f4e"
      },
      "cell_type": "code",
      "source": [
        "check_accuracy(vgg19, dataloaders[VAL])"
      ],
      "execution_count": 10,
      "outputs": [
        {
          "output_type": "stream",
          "text": [
            "/usr/local/lib/python3.6/dist-packages/ipykernel_launcher.py:11: UserWarning: volatile was removed and now has no effect. Use `with torch.no_grad():` instead.\n",
            "  # This is added back by InteractiveShellApp.init_path()\n"
          ],
          "name": "stderr"
        },
        {
          "output_type": "stream",
          "text": [
            "tensor([5, 5, 5, 5, 5, 5, 5, 5, 5, 5, 5, 5, 5, 5, 5, 5])\n",
            "tensor([5, 5, 5, 5, 5, 5, 5, 5, 5, 5, 5, 5, 5, 5, 5, 5])\n",
            "tensor([5, 5, 5, 5, 5, 5, 5, 5, 4, 5, 5, 4, 5, 5, 5, 5])\n",
            "tensor([5, 5, 5, 5, 5, 5, 5, 5, 5, 5, 5, 5, 5, 5, 5, 5])\n",
            "tensor([5, 5, 5, 5, 5, 5, 5, 5, 5, 5, 1, 5, 5, 5, 5, 5])\n",
            "tensor([5, 5, 5, 5, 5, 5, 5, 5, 5, 5, 5, 5, 5, 5, 5, 5])\n",
            "tensor([5, 5, 5, 5, 5, 5, 5, 5, 5, 5, 5, 5, 5, 5, 5, 5])\n",
            "tensor([5, 5, 5, 5, 5, 5, 5, 5, 5, 1, 5, 5, 5])\n",
            "Got 47 / 125 correct (37.60)\n"
          ],
          "name": "stdout"
        }
      ]
    },
    {
      "metadata": {
        "scrolled": true,
        "id": "5JOtWiKGkbhG",
        "colab_type": "code",
        "colab": {
          "base_uri": "https://localhost:8080/",
          "height": 212
        },
        "outputId": "574936b7-064e-4ab4-8d1b-5a653465806e"
      },
      "cell_type": "code",
      "source": [
        "check_accuracy(vgg19, dataloaders[TEST])"
      ],
      "execution_count": 11,
      "outputs": [
        {
          "output_type": "stream",
          "text": [
            "/usr/local/lib/python3.6/dist-packages/ipykernel_launcher.py:11: UserWarning: volatile was removed and now has no effect. Use `with torch.no_grad():` instead.\n",
            "  # This is added back by InteractiveShellApp.init_path()\n"
          ],
          "name": "stderr"
        },
        {
          "output_type": "stream",
          "text": [
            "tensor([5, 5, 5, 5, 5, 5, 5, 5, 5, 5, 5, 5, 5, 5, 5, 5])\n",
            "tensor([5, 5, 5, 5, 5, 5, 5, 5, 5, 5, 5, 5, 4, 5, 5, 5])\n",
            "tensor([5, 5, 5, 5, 5, 4, 5, 4, 5, 5, 4, 5, 5, 5, 5, 1])\n",
            "tensor([5, 5, 5, 4, 5, 5, 5, 5, 4, 5, 5, 5, 5, 5, 5, 5])\n",
            "tensor([5, 5, 4, 5, 5, 5, 5, 5, 5, 5, 5, 5, 4, 5, 5, 5])\n",
            "tensor([5, 5, 5, 5, 5, 5, 5, 5, 5, 5, 5, 5, 5, 5, 5, 5])\n",
            "tensor([5, 5, 5, 5, 5, 5, 5, 5, 5, 5, 5, 5, 5, 5, 5, 5])\n",
            "tensor([5, 5, 5, 5, 1, 5, 5, 5, 5, 5, 5, 5, 5])\n",
            "Got 42 / 125 correct (33.60)\n"
          ],
          "name": "stdout"
        }
      ]
    }
  ]
}