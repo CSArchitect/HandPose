{
 "cells": [
  {
   "cell_type": "code",
   "execution_count": 1,
   "metadata": {},
   "outputs": [],
   "source": [
    "import torch\n",
    "import torch.nn as nn\n",
    "import torchvision\n",
    "import torchvision.transforms as transforms\n",
    "import torchvision.transforms.functional as TF\n",
    "\n",
    "import os\n",
    "import os.path\n",
    "import numpy as np\n",
    "import json\n",
    "import matplotlib\n",
    "import matplotlib.pyplot as plt\n",
    "import matplotlib.image as mpimg\n",
    "import mltools as ml\n",
    "from PIL import Image\n",
    "\n",
    "from pprint import pprint"
   ]
  },
  {
   "cell_type": "code",
   "execution_count": 2,
   "metadata": {},
   "outputs": [
    {
     "name": "stdout",
     "output_type": "stream",
     "text": [
      "cuda\n"
     ]
    }
   ],
   "source": [
    "# Device configuration\n",
    "device = torch.device('cuda' if torch.cuda.is_available() else 'cpu')\n",
    "print(device)"
   ]
  },
  {
   "cell_type": "code",
   "execution_count": 3,
   "metadata": {},
   "outputs": [
    {
     "name": "stdout",
     "output_type": "stream",
     "text": [
      "-----Synth 2 Loaded------\n",
      "-----Synth 3 Loaded------\n",
      "Mean Shape:  torch.Size([3, 368, 368])\n",
      "Mean:  tensor([[[87.2999, 87.6553, 87.7798,  ..., 85.9090, 85.8403, 85.5756],\n",
      "         [87.9599, 88.3591, 88.4802,  ..., 86.5037, 86.4781, 86.2202],\n",
      "         [88.2876, 88.6510, 88.7398,  ..., 86.7407, 86.7194, 86.4527],\n",
      "         ...,\n",
      "         [89.3656, 89.6856, 89.8101,  ..., 88.1028, 88.0098, 87.8109],\n",
      "         [89.3461, 89.6358, 89.7351,  ..., 87.9624, 87.8360, 87.6806],\n",
      "         [89.1052, 89.3590, 89.4457,  ..., 87.6759, 87.5180, 87.3593]],\n",
      "\n",
      "        [[89.6917, 89.9852, 90.0120,  ..., 87.6557, 87.6659, 87.4631],\n",
      "         [90.2765, 90.6144, 90.6503,  ..., 88.2084, 88.2597, 88.0563],\n",
      "         [90.4795, 90.8033, 90.8077,  ..., 88.3667, 88.4212, 88.2112],\n",
      "         ...,\n",
      "         [90.6537, 90.9259, 90.9725,  ..., 88.9539, 88.9299, 88.7711],\n",
      "         [90.7224, 90.9683, 90.9893,  ..., 88.8950, 88.8515, 88.7396],\n",
      "         [90.5266, 90.7394, 90.7498,  ..., 88.6614, 88.5935, 88.4772]],\n",
      "\n",
      "        [[85.3813, 85.6688, 85.7104,  ..., 83.6768, 83.7024, 83.5067],\n",
      "         [85.9503, 86.2935, 86.3345,  ..., 84.2372, 84.2971, 84.0909],\n",
      "         [86.1576, 86.4747, 86.4856,  ..., 84.4055, 84.4659, 84.2525],\n",
      "         ...,\n",
      "         [86.5763, 86.8412, 86.8789,  ..., 85.0426, 85.0309, 84.8782],\n",
      "         [86.6212, 86.8605, 86.8812,  ..., 84.9837, 84.9544, 84.8515],\n",
      "         [86.4294, 86.6324, 86.6489,  ..., 84.7623, 84.7077, 84.6022]]])\n",
      "Std Shape:  torch.Size([3, 368, 368])\n",
      "Std:  tensor([[[81.9944, 82.2459, 82.3520,  ..., 81.4952, 81.3874, 81.2204],\n",
      "         [82.2439, 82.5447, 82.6490,  ..., 81.8365, 81.7547, 81.5287],\n",
      "         [82.4183, 82.6803, 82.7705,  ..., 82.0138, 81.9623, 81.7199],\n",
      "         ...,\n",
      "         [84.3642, 84.5621, 84.6258,  ..., 83.7625, 83.6777, 83.4486],\n",
      "         [84.3659, 84.5548, 84.6129,  ..., 83.6627, 83.5586, 83.3528],\n",
      "         [84.1986, 84.3461, 84.4327,  ..., 83.4166, 83.3005, 83.1567]],\n",
      "\n",
      "        [[85.2208, 85.3642, 85.4043,  ..., 84.1582, 84.1275, 84.0905],\n",
      "         [85.3547, 85.5333, 85.5647,  ..., 84.3510, 84.3421, 84.2513],\n",
      "         [85.4166, 85.5727, 85.5853,  ..., 84.4373, 84.4543, 84.3466],\n",
      "         ...,\n",
      "         [86.9197, 86.9749, 86.9652,  ..., 85.8798, 85.8754, 85.7857],\n",
      "         [86.9967, 87.0492, 87.0230,  ..., 85.8669, 85.8444, 85.7578],\n",
      "         [86.9385, 86.9703, 86.9816,  ..., 85.7679, 85.7272, 85.6768]],\n",
      "\n",
      "        [[83.3138, 83.4137, 83.4565,  ..., 82.7667, 82.7468, 82.7587],\n",
      "         [83.4091, 83.5271, 83.5592,  ..., 82.9058, 82.9081, 82.8791],\n",
      "         [83.4771, 83.5701, 83.5776,  ..., 82.9982, 83.0272, 82.9807],\n",
      "         ...,\n",
      "         [85.4542, 85.4431, 85.4295,  ..., 84.6229, 84.6376, 84.6211],\n",
      "         [85.5355, 85.5159, 85.4826,  ..., 84.6162, 84.6058, 84.5968],\n",
      "         [85.5301, 85.5012, 85.5087,  ..., 84.5764, 84.5504, 84.5674]]])\n"
     ]
    }
   ],
   "source": [
    "# ================================================================== #\n",
    "#                  Input pipeline for custom dataset                 #\n",
    "# ================================================================== #\n",
    "\n",
    "img_size = 368, 368\n",
    "lbl_size = 21, 3\n",
    "\n",
    "# You should build your custom dataset as below.\n",
    "class CustomDataset(torch.utils.data.Dataset):\n",
    "    def __init__(self):\n",
    "        # TODO\n",
    "        # Initialize file paths \n",
    "        self.paths = ['hand_labels_synth/synth2/', 'hand_labels_synth/synth3/']\n",
    "        \n",
    "        # Initialize a list of file names. \n",
    "        self.imgs = np.chararray(5591, itemsize=37)\n",
    "        \n",
    "        # Initialize images RGB pixels to calculate mean/std\n",
    "        # 5591 images (TODO: Count how many jpg's there are to avoid\n",
    "        #                    hard-coded values)\n",
    "        # 368*368 = 135424 pixels\n",
    "        # 3 channels for RGB\n",
    "        pixels = torch.zeros(5591,3,368,368)\n",
    "\n",
    "        # Initialize images' RGB means\n",
    "#         sum_pixels = torch.zeros(3,368,368)\n",
    "        \n",
    "        # Initialize images' RGB std\n",
    "#         stds = torch.zeros(3,368,368)\n",
    "        \n",
    "        # Initialize images' labels\n",
    "        self.labels = torch.zeros(5591,21,3)\n",
    "                           \n",
    "            \n",
    "        inpath2 = self.paths[0]   \n",
    "        # Used to pick up where synth2 left off before all\n",
    "        # 5591 images\n",
    "        cutoff = 0\n",
    "        for i,f in enumerate(sorted(os.listdir(inpath2))):\n",
    "            # Since every iteration can be a .jpg or a .json\n",
    "            # index to add to is floor(i/2)\n",
    "            index = int(np.floor(i/2))\n",
    "            \n",
    "            if f.endswith('.jpg'):\n",
    "                self.imgs[index] = inpath2+f\n",
    "                cur_img = Image.open(self.imgs[index])\n",
    "                # Transposed to be able to index each channel easier\n",
    "                cur_img_px = torch.transpose(torch.Tensor(cur_img.getdata()), 0, 1)\n",
    "                cur_img_px = cur_img_px.view(3,368,368)\n",
    "                pixels[index] = cur_img_px\n",
    "#                 sum_pixels += pixels \n",
    "#                 stds += pixels\n",
    "                cur_img.close()\n",
    "                \n",
    "#                 print(\"Image: \", self.imgs[index].decode('utf-8', \"ignore\"))\n",
    "#                 print(\"Pixels: \", list(self.pixels[index].shape))\n",
    "#                 print(\"Mean: \", means[index])\n",
    "#                 print(\"Std: \", stds[index])\n",
    "\n",
    "            else:\n",
    "                with open(inpath2+f, 'r') as fid:\n",
    "                    dat = json.load(fid)\n",
    "                self.labels[index] = torch.Tensor(dat['hand_pts'])\n",
    "# #                 print(\"Labels: \", list(self.labels[index].shape))\n",
    "# #                 print(\"_____________________________\")\n",
    "            cutoff = i\n",
    "    \n",
    "    \n",
    "        print(\"-----Synth 2 Loaded------\")\n",
    "        \n",
    "        \n",
    "        inpath3 = self.paths[1]\n",
    "        cutoff = int((cutoff+1)/2)\n",
    "        for i,f in enumerate(sorted(os.listdir(inpath3))):\n",
    "            index = int(np.floor(i/2))\n",
    "            \n",
    "            if f.endswith('.jpg'):\n",
    "                self.imgs[index] = inpath3+f\n",
    "                cur_img = Image.open(self.imgs[index])\n",
    "                cur_img_px = torch.transpose(torch.Tensor(cur_img.getdata()), 0, 1)\n",
    "                cur_img_px = cur_img_px.view(3,368,368)\n",
    "                pixels[index] = cur_img_px\n",
    "#                 sum_pixels += pixels \n",
    "#                 stds += pixels\n",
    "                cur_img.close()\n",
    "                \n",
    "#                 print(\"Image: \", self.imgs[index].decode('utf-8', \"ignore\"))\n",
    "#                 print(\"Pixels: \", list(self.pixels[index].shape))\n",
    "#                 print(\"Mean: \", means[index])\n",
    "#                 print(\"Std: \", stds[index])\n",
    "\n",
    "            else:\n",
    "                with open(inpath3+f, 'r') as fid:\n",
    "                    dat = json.load(fid)\n",
    "                self.labels[index] = torch.Tensor(dat['hand_pts'])\n",
    "# #                 print(\"Labels: \", list(self.labels[index].shape))\n",
    "# #                 print(\"_____________________________\")\n",
    "\n",
    "\n",
    "        print(\"-----Synth 3 Loaded------\")\n",
    "    \n",
    "        # The total mean of all images per channel\n",
    "        self.mean_channels = torch.mean(pixels, dim=0)\n",
    "        self.std_channels = torch.std(pixels, dim=0)\n",
    "        print(\"Mean Shape: \", self.mean_channels.shape)\n",
    "        print(\"Mean: \", self.mean_channels)\n",
    "        print(\"Std Shape: \", self.std_channels.shape)\n",
    "        print(\"Std: \", self.std_channels)\n",
    "                \n",
    "    def __getitem__(self, index):\n",
    "        # 1. Read one data from file (e.g. using numpy.fromfile, PIL.Image.open).\n",
    "        img = Image.open(self.imgs[index])\n",
    "        # 2. Preprocess the data (e.g. torchvision.Transform).\n",
    "        rgb_flat = torch.transpose(torch.Tensor(img.getdata()), 0, 1)\n",
    "        rgb_image = rgb_flat.view(3,368,368)\n",
    "        img_norm = TF.normalize(rgb_image, mean=self.mean_channels, std=self.std_channels)\n",
    "#         img.close()\n",
    "        # 3. Return a data pair (e.g. image and label).\n",
    "        return (img_norm, self.labels[index])\n",
    "\n",
    "    def __len__(self):\n",
    "        # You should change 0 to the total size of your dataset.\n",
    "        return len(self.imgs)\n",
    "\n",
    "# You can then use the prebuilt data loader. \n",
    "custom_dataset = CustomDataset()\n",
    "train_loader = torch.utils.data.DataLoader(dataset=custom_dataset,\n",
    "                                           batch_size=64, \n",
    "                                           shuffle=True)"
   ]
  },
  {
   "cell_type": "code",
   "execution_count": 10,
   "metadata": {},
   "outputs": [
    {
     "data": {
      "text/plain": [
       "tensor(1.0045)"
      ]
     },
     "execution_count": 10,
     "metadata": {},
     "output_type": "execute_result"
    }
   ],
   "source": [
    "custom_dataset[0][0][0].mean()"
   ]
  },
  {
   "cell_type": "code",
   "execution_count": 8,
   "metadata": {},
   "outputs": [
    {
     "data": {
      "text/plain": [
       "tensor(0.2735)"
      ]
     },
     "execution_count": 8,
     "metadata": {},
     "output_type": "execute_result"
    }
   ],
   "source": [
    "custom_dataset[0][0][0].std()"
   ]
  },
  {
   "cell_type": "code",
   "execution_count": 9,
   "metadata": {},
   "outputs": [
    {
     "name": "stdout",
     "output_type": "stream",
     "text": [
      "-----Synth 2 Loaded------\n",
      "-----Synth 3 Loaded------\n",
      "Mean Shape:  torch.Size([3, 368, 368])\n",
      "Mean:  tensor([[[87.2999, 87.6553, 87.7798,  ..., 85.9090, 85.8403, 85.5756],\n",
      "         [87.9599, 88.3591, 88.4802,  ..., 86.5037, 86.4781, 86.2202],\n",
      "         [88.2876, 88.6510, 88.7398,  ..., 86.7407, 86.7194, 86.4527],\n",
      "         ...,\n",
      "         [89.3656, 89.6856, 89.8101,  ..., 88.1028, 88.0098, 87.8109],\n",
      "         [89.3461, 89.6358, 89.7351,  ..., 87.9624, 87.8360, 87.6806],\n",
      "         [89.1052, 89.3590, 89.4457,  ..., 87.6759, 87.5180, 87.3593]],\n",
      "\n",
      "        [[89.6917, 89.9852, 90.0120,  ..., 87.6557, 87.6659, 87.4631],\n",
      "         [90.2765, 90.6144, 90.6503,  ..., 88.2084, 88.2597, 88.0563],\n",
      "         [90.4795, 90.8033, 90.8077,  ..., 88.3667, 88.4212, 88.2112],\n",
      "         ...,\n",
      "         [90.6537, 90.9259, 90.9725,  ..., 88.9539, 88.9299, 88.7711],\n",
      "         [90.7224, 90.9683, 90.9893,  ..., 88.8950, 88.8515, 88.7396],\n",
      "         [90.5266, 90.7394, 90.7498,  ..., 88.6614, 88.5935, 88.4772]],\n",
      "\n",
      "        [[85.3813, 85.6688, 85.7104,  ..., 83.6768, 83.7024, 83.5067],\n",
      "         [85.9503, 86.2935, 86.3345,  ..., 84.2372, 84.2971, 84.0909],\n",
      "         [86.1576, 86.4747, 86.4856,  ..., 84.4055, 84.4659, 84.2525],\n",
      "         ...,\n",
      "         [86.5763, 86.8412, 86.8789,  ..., 85.0426, 85.0309, 84.8782],\n",
      "         [86.6212, 86.8605, 86.8812,  ..., 84.9837, 84.9544, 84.8515],\n",
      "         [86.4294, 86.6324, 86.6489,  ..., 84.7623, 84.7077, 84.6022]]])\n",
      "Std Shape:  torch.Size([3, 368, 368])\n",
      "Std:  tensor([[[81.9944, 82.2459, 82.3520,  ..., 81.4952, 81.3874, 81.2204],\n",
      "         [82.2439, 82.5447, 82.6490,  ..., 81.8365, 81.7547, 81.5287],\n",
      "         [82.4183, 82.6803, 82.7705,  ..., 82.0138, 81.9623, 81.7199],\n",
      "         ...,\n",
      "         [84.3642, 84.5621, 84.6258,  ..., 83.7625, 83.6777, 83.4486],\n",
      "         [84.3659, 84.5548, 84.6129,  ..., 83.6627, 83.5586, 83.3528],\n",
      "         [84.1986, 84.3461, 84.4327,  ..., 83.4166, 83.3005, 83.1567]],\n",
      "\n",
      "        [[85.2208, 85.3642, 85.4043,  ..., 84.1582, 84.1275, 84.0905],\n",
      "         [85.3547, 85.5333, 85.5647,  ..., 84.3510, 84.3421, 84.2513],\n",
      "         [85.4166, 85.5727, 85.5853,  ..., 84.4373, 84.4543, 84.3466],\n",
      "         ...,\n",
      "         [86.9197, 86.9749, 86.9652,  ..., 85.8798, 85.8754, 85.7857],\n",
      "         [86.9967, 87.0492, 87.0230,  ..., 85.8669, 85.8444, 85.7578],\n",
      "         [86.9385, 86.9703, 86.9816,  ..., 85.7679, 85.7272, 85.6768]],\n",
      "\n",
      "        [[83.3138, 83.4137, 83.4565,  ..., 82.7667, 82.7468, 82.7587],\n",
      "         [83.4091, 83.5271, 83.5592,  ..., 82.9058, 82.9081, 82.8791],\n",
      "         [83.4771, 83.5701, 83.5776,  ..., 82.9982, 83.0272, 82.9807],\n",
      "         ...,\n",
      "         [85.4542, 85.4431, 85.4295,  ..., 84.6229, 84.6376, 84.6211],\n",
      "         [85.5355, 85.5159, 85.4826,  ..., 84.6162, 84.6058, 84.5968],\n",
      "         [85.5301, 85.5012, 85.5087,  ..., 84.5764, 84.5504, 84.5674]]])\n"
     ]
    }
   ],
   "source": [
    "# ================================================================== #\n",
    "#                  Input pipeline for custom dataset                 #\n",
    "# ================================================================== #\n",
    "\n",
    "img_size = 368, 368\n",
    "lbl_size = 21, 3\n",
    "\n",
    "# You should build your custom dataset as below.\n",
    "class CustomDataset2(torch.utils.data.Dataset):\n",
    "    def __init__(self):\n",
    "        # TODO\n",
    "        # Initialize file paths \n",
    "        self.paths = ['hand_labels_synth/synth2/', 'hand_labels_synth/synth3/']\n",
    "        \n",
    "        # Initialize a list of file names. \n",
    "        self.imgs = np.chararray(5591, itemsize=37)\n",
    "        \n",
    "        # Initialize images RGB pixels to calculate mean/std\n",
    "        # 5591 images (TODO: Count how many jpg's there are to avoid\n",
    "        #                    hard-coded values)\n",
    "        # 368*368 = 135424 pixels\n",
    "        # 3 channels for RGB\n",
    "        pixels = torch.zeros(5591,3,368,368)\n",
    "\n",
    "        # Initialize images' RGB means\n",
    "#         sum_pixels = torch.zeros(3,368,368)\n",
    "        \n",
    "        # Initialize images' RGB std\n",
    "#         stds = torch.zeros(3,368,368)\n",
    "        \n",
    "        # Initialize images' labels\n",
    "        self.labels = torch.zeros(5591,21,3)\n",
    "                           \n",
    "            \n",
    "        inpath2 = self.paths[0]   \n",
    "        # Used to pick up where synth2 left off before all\n",
    "        # 5591 images\n",
    "        cutoff = 0\n",
    "        for i,f in enumerate(sorted(os.listdir(inpath2))):\n",
    "            # Since every iteration can be a .jpg or a .json\n",
    "            # index to add to is floor(i/2)\n",
    "            index = int(np.floor(i/2))\n",
    "            \n",
    "            if f.endswith('.jpg'):\n",
    "                self.imgs[index] = inpath2+f\n",
    "                cur_img = Image.open(self.imgs[index])\n",
    "                # Transposed to be able to index each channel easier\n",
    "                cur_img_px = torch.transpose(torch.Tensor(cur_img.getdata()), 0, 1)\n",
    "                cur_img_px = cur_img_px.view(3,368,368)\n",
    "                pixels[index] = cur_img_px\n",
    "#                 sum_pixels += pixels \n",
    "#                 stds += pixels\n",
    "                cur_img.close()\n",
    "                \n",
    "#                 print(\"Image: \", self.imgs[index].decode('utf-8', \"ignore\"))\n",
    "#                 print(\"Pixels: \", list(self.pixels[index].shape))\n",
    "#                 print(\"Mean: \", means[index])\n",
    "#                 print(\"Std: \", stds[index])\n",
    "\n",
    "            else:\n",
    "                with open(inpath2+f, 'r') as fid:\n",
    "                    dat = json.load(fid)\n",
    "                self.labels[index] = torch.Tensor(dat['hand_pts'])\n",
    "# #                 print(\"Labels: \", list(self.labels[index].shape))\n",
    "# #                 print(\"_____________________________\")\n",
    "            cutoff = i\n",
    "    \n",
    "    \n",
    "        print(\"-----Synth 2 Loaded------\")\n",
    "        \n",
    "        \n",
    "        inpath3 = self.paths[1]\n",
    "        cutoff = int((cutoff+1)/2)\n",
    "        for i,f in enumerate(sorted(os.listdir(inpath3))):\n",
    "            index = int(np.floor(i/2))\n",
    "            \n",
    "            if f.endswith('.jpg'):\n",
    "                self.imgs[index] = inpath3+f\n",
    "                cur_img = Image.open(self.imgs[index])\n",
    "                cur_img_px = torch.transpose(torch.Tensor(cur_img.getdata()), 0, 1)\n",
    "                cur_img_px = cur_img_px.view(3,368,368)\n",
    "                pixels[index] = cur_img_px\n",
    "#                 sum_pixels += pixels \n",
    "#                 stds += pixels\n",
    "                cur_img.close()\n",
    "                \n",
    "#                 print(\"Image: \", self.imgs[index].decode('utf-8', \"ignore\"))\n",
    "#                 print(\"Pixels: \", list(self.pixels[index].shape))\n",
    "#                 print(\"Mean: \", means[index])\n",
    "#                 print(\"Std: \", stds[index])\n",
    "\n",
    "            else:\n",
    "                with open(inpath3+f, 'r') as fid:\n",
    "                    dat = json.load(fid)\n",
    "                self.labels[index] = torch.Tensor(dat['hand_pts'])\n",
    "# #                 print(\"Labels: \", list(self.labels[index].shape))\n",
    "# #                 print(\"_____________________________\")\n",
    "\n",
    "\n",
    "        print(\"-----Synth 3 Loaded------\")\n",
    "    \n",
    "        # The total mean of all images per channel\n",
    "        self.mean_channels = torch.mean(pixels, dim=0)\n",
    "        self.std_channels = torch.std(pixels, dim=0)\n",
    "        print(\"Mean Shape: \", self.mean_channels.shape)\n",
    "        print(\"Mean: \", self.mean_channels)\n",
    "        print(\"Std Shape: \", self.std_channels.shape)\n",
    "        print(\"Std: \", self.std_channels)\n",
    "                \n",
    "    def __getitem__(self, index):\n",
    "        # 1. Read one data from file (e.g. using numpy.fromfile, PIL.Image.open).\n",
    "        img = Image.open(self.imgs[index])\n",
    "        # 2. Preprocess the data (e.g. torchvision.Transform).\n",
    "        rgb_flat = torch.transpose(torch.Tensor(img.getdata()), 0, 1)\n",
    "        rgb_image = rgb_flat.view(3,368,368)\n",
    "        rgb_image -= self.mean_channels\n",
    "        rgb_image /= self.std_channels\n",
    "#         img.close()\n",
    "        # 3. Return a data pair (e.g. image and label).\n",
    "        return (rgb_image, self.labels[index])\n",
    "\n",
    "    def __len__(self):\n",
    "        # You should change 0 to the total size of your dataset.\n",
    "        return len(self.imgs)\n",
    "\n",
    "# You can then use the prebuilt data loader. \n",
    "custom_dataset2 = CustomDataset2()\n",
    "train_loader = torch.utils.data.DataLoader(dataset=custom_dataset2,\n",
    "                                           batch_size=64, \n",
    "                                           shuffle=True)        \n",
    "    \n"
   ]
  },
  {
   "cell_type": "code",
   "execution_count": 12,
   "metadata": {},
   "outputs": [
    {
     "data": {
      "text/plain": [
       "tensor(1.0045)"
      ]
     },
     "execution_count": 12,
     "metadata": {},
     "output_type": "execute_result"
    }
   ],
   "source": [
    "custom_dataset2[0][0][0].mean()"
   ]
  },
  {
   "cell_type": "code",
   "execution_count": 11,
   "metadata": {},
   "outputs": [
    {
     "data": {
      "text/plain": [
       "tensor(0.2735)"
      ]
     },
     "execution_count": 11,
     "metadata": {},
     "output_type": "execute_result"
    }
   ],
   "source": [
    "custom_dataset2[0][0][0].std()"
   ]
  },
  {
   "cell_type": "code",
   "execution_count": 20,
   "metadata": {},
   "outputs": [],
   "source": [
    "edges = [[0,1],[1,2],[2,3],[3,4],[0,5],[5,6],[6,7],[7,8],[0,9],[9,10],[10,11],[11,12],[0,13],[13,14],[14,15],[15,16],[0,17],[17,18],[18,19],[19,20]]\n",
    "\n",
    "\n",
    "paths = ['synth1/', 'synth2/', 'synth3/', 'synth4/']\n",
    "paths = ['hand_labels_synth/synth2/', 'hand_labels_synth/synth3/']\n",
    "inpath2 = paths[0]\n",
    "inpath3 = paths[1]\n",
    "\n",
    "# files contain the 00000001.json - 00003243.json files sorted\n",
    "files2 = sorted([f for f in os.listdir(inpath2) if f.endswith('.jpg')])\n",
    "files3 = sorted([f for f in os.listdir(inpath3) if f.endswith('.jpg')])"
   ]
  },
  {
   "cell_type": "code",
   "execution_count": 21,
   "metadata": {},
   "outputs": [],
   "source": [
    "img = mpimg.imread(inpath+files2[0])"
   ]
  },
  {
   "cell_type": "code",
   "execution_count": 22,
   "metadata": {},
   "outputs": [
    {
     "name": "stdout",
     "output_type": "stream",
     "text": [
      "368 x 368\n"
     ]
    }
   ],
   "source": [
    "print(len(img), 'x', len(img[0]))"
   ]
  },
  {
   "cell_type": "code",
   "execution_count": 23,
   "metadata": {
    "scrolled": true
   },
   "outputs": [
    {
     "data": {
      "text/plain": [
       "<matplotlib.image.AxesImage at 0x29ca5468f60>"
      ]
     },
     "execution_count": 23,
     "metadata": {},
     "output_type": "execute_result"
    },
    {
     "data": {
      "image/png": "[encoded data removed]",
      "text/plain": [
       "<Figure size 432x288 with 1 Axes>"
      ]
     },
     "metadata": {
      "needs_background": "light"
     },
     "output_type": "display_data"
    }
   ],
   "source": [
    "plt.imshow(img)"
   ]
  },
  {
   "cell_type": "code",
   "execution_count": 25,
   "metadata": {},
   "outputs": [],
   "source": [
    "imgs2 = [mpimg.imread(inpath2+f) for f in files2]\n",
    "imgs3 = [mpimg.imread(inpath3+f) for f in files3]"
   ]
  },
  {
   "cell_type": "code",
   "execution_count": 124,
   "metadata": {},
   "outputs": [
    {
     "name": "stdout",
     "output_type": "stream",
     "text": [
      "b'hand_labels_synth/synth2/00000001.jpg'\n",
      "[[ 85.21452332 173.12060547   1.        ]\n",
      " [ 87.69029236 148.85780334   1.        ]\n",
      " [ 76.8404541  130.85449219   1.        ]\n",
      " [101.13573456 125.7907486    1.        ]\n",
      " [137.0382843  128.00276184   1.        ]\n",
      " [118.5532608  184.532547     1.        ]\n",
      " [142.43692017 187.96066284   1.        ]\n",
      " [167.59210205 178.79924011   1.        ]\n",
      " [196.06517029 162.23907471   1.        ]\n",
      " [147.82598877 200.03800964   1.        ]\n",
      " [191.43353271 212.16567993   1.        ]\n",
      " [223.47140503 205.14064026   1.        ]\n",
      " [254.28117371 192.29589844   1.        ]\n",
      " [171.59661865 207.18063354   1.        ]\n",
      " [219.74983215 217.37692261   1.        ]\n",
      " [250.63174438 209.32655334   1.        ]\n",
      " [280.5866394  197.31211853   1.        ]\n",
      " [189.62809753 210.22674561   1.        ]\n",
      " [232.78018188 204.87371826   1.        ]\n",
      " [252.85021973 186.22302246   1.        ]\n",
      " [249.9256134  160.24780273   1.        ]]\n",
      "____________________________\n",
      "b'hand_labels_synth/synth2/00000002.jpg'\n",
      "[[104.83677673  91.91148376   1.        ]\n",
      " [115.72423553  97.29058838   1.        ]\n",
      " [110.5593338   85.50991058   1.        ]\n",
      " [112.83255005  98.64167786   1.        ]\n",
      " [127.77948761 148.4446106    1.        ]\n",
      " [218.49781799 128.94406128   1.        ]\n",
      " [278.61801147 138.95861816   1.        ]\n",
      " [283.32177734 167.00622559   1.        ]\n",
      " [260.128479   197.06095886   1.        ]\n",
      " [222.67579651 159.5614624    1.        ]\n",
      " [190.12498474 217.52471924   1.        ]\n",
      " [142.57371521 233.43217468   1.        ]\n",
      " [ 93.1032486  235.82501221   1.        ]\n",
      " [216.65029907 185.02226257   1.        ]\n",
      " [251.08958435 225.50221252   1.        ]\n",
      " [220.96908569 240.66871643   1.        ]\n",
      " [176.67835999 228.17771912   1.        ]\n",
      " [201.37379456 205.00285339   1.        ]\n",
      " [176.20666504 247.68661499   1.        ]\n",
      " [139.61552429 233.21748352   1.        ]\n",
      " [134.38627625 195.4546814    1.        ]]\n",
      "____________________________\n",
      "b'hand_labels_synth/synth2/00000003.jpg'\n",
      "[[ 34.2399559  149.95956421   1.        ]\n",
      " [ 67.169487   141.19174194   1.        ]\n",
      " [ 74.15050507 149.91481018   1.        ]\n",
      " [114.00643921 139.41661072   1.        ]\n",
      " [154.15882874 125.68197632   1.        ]\n",
      " [139.72679138 198.67205811   1.        ]\n",
      " [181.67623901 229.85760498   1.        ]\n",
      " [217.54594421 233.44059753   1.        ]\n",
      " [250.4319458  243.77027893   1.        ]\n",
      " [154.08039856 203.84753418   1.        ]\n",
      " [221.78804016 197.81690979   1.        ]\n",
      " [209.70239258 162.44059753   1.        ]\n",
      " [179.67791748 135.62393188   1.        ]\n",
      " [163.55101013 201.61779785   1.        ]\n",
      " [226.5559082  193.68408203   1.        ]\n",
      " [236.88868713 166.02493286   1.        ]\n",
      " [207.72148132 143.39094543   1.        ]\n",
      " [165.15460205 194.62666321   1.        ]\n",
      " [208.83874512 208.68171692   1.        ]\n",
      " [235.67607117 203.51713562   1.        ]\n",
      " [256.01254272 189.8747406    1.        ]]\n",
      "____________________________\n",
      "b'hand_labels_synth/synth2/00000004.jpg'\n",
      "[[168.86213684 335.83312988   1.        ]\n",
      " [141.62051392 281.4286499    1.        ]\n",
      " [122.81355286 277.16137695   1.        ]\n",
      " [154.67520142 254.10678101   1.        ]\n",
      " [199.42131042 233.28015137   1.        ]\n",
      " [113.61990356 164.16070557   1.        ]\n",
      " [120.21250153 118.74160767   1.        ]\n",
      " [144.17192078 130.80331421   1.        ]\n",
      " [171.0317688  166.37905884   1.        ]\n",
      " [151.29988098 166.54750061   1.        ]\n",
      " [168.58056641 122.40621948   1.        ]\n",
      " [186.49526978 145.55145264   1.        ]\n",
      " [193.22343445 197.79159546   1.        ]\n",
      " [185.54626465 174.69622803   1.        ]\n",
      " [214.40032959 145.25799561   1.        ]\n",
      " [221.55422974 191.83276367   1.        ]\n",
      " [229.50762939 235.62739563   1.        ]\n",
      " [219.14776611 193.64608765   1.        ]\n",
      " [242.80583191 145.99627686   1.        ]\n",
      " [248.91543579 159.30525208   1.        ]\n",
      " [236.34602356 195.04066467   1.        ]]\n",
      "____________________________\n",
      "b'hand_labels_synth/synth2/00000005.jpg'\n",
      "[[127.19879913  88.66978455   1.        ]\n",
      " [150.74804688 164.40899658   1.        ]\n",
      " [172.625      224.8092804    1.        ]\n",
      " [171.55554199 266.63677979   1.        ]\n",
      " [153.52920532 256.89404297   1.        ]\n",
      " [248.36061096 176.00035095   1.        ]\n",
      " [244.81121826 231.13247681   1.        ]\n",
      " [198.47538757 248.15969849   1.        ]\n",
      " [156.05639648 236.20481873   1.        ]\n",
      " [240.55917358 139.3625946    1.        ]\n",
      " [225.76060486 195.92478943   1.        ]\n",
      " [172.30448914 214.62905884   1.        ]\n",
      " [140.13960266 204.36885071   1.        ]\n",
      " [225.64254761 113.89707184   1.        ]\n",
      " [213.9370575  156.47514343   1.        ]\n",
      " [167.49505615 176.68391418   1.        ]\n",
      " [142.03199768 173.25582886   1.        ]\n",
      " [202.56071472  89.22820282   1.        ]\n",
      " [181.60166931 110.44258118   1.        ]\n",
      " [145.79025269 131.87744141   1.        ]\n",
      " [130.36483765 136.87651062   1.        ]]\n",
      "____________________________\n",
      "b'hand_labels_synth/synth2/00000006.jpg'\n",
      "[[303.43948364 215.94328308   1.        ]\n",
      " [271.1416626  164.09547424   1.        ]\n",
      " [268.0144043  114.70687866   1.        ]\n",
      " [227.74156189  97.59064484   1.        ]\n",
      " [191.38934326 130.24180603   1.        ]\n",
      " [248.71768188 153.3425293    1.        ]\n",
      " [191.05456543 138.88635254   1.        ]\n",
      " [181.71684265 145.40927124   1.        ]\n",
      " [188.28677368 156.48596191   1.        ]\n",
      " [236.04832458 191.05615234   1.        ]\n",
      " [169.08255005 185.39744568   1.        ]\n",
      " [126.76069641 179.47384644   1.        ]\n",
      " [ 88.97491455 173.6214447    1.        ]\n",
      " [222.89230347 220.30986023   1.        ]\n",
      " [156.9540863  228.45280457   1.        ]\n",
      " [117.92602539 227.94293213   1.        ]\n",
      " [ 97.77536774 220.33055115   1.        ]\n",
      " [213.38568115 248.00856018   1.        ]\n",
      " [165.81896973 246.45855713   1.        ]\n",
      " [163.36047363 238.26696777   1.        ]\n",
      " [181.0664978  229.03076172   1.        ]]\n",
      "____________________________\n",
      "b'hand_labels_synth/synth2/00000007.jpg'\n",
      "[[326.61105347  80.92462158   1.        ]\n",
      " [265.65133667 103.18650818   1.        ]\n",
      " [234.07493591 112.80386353   1.        ]\n",
      " [175.86868286 125.64562988   1.        ]\n",
      " [143.35136414 130.74565125   1.        ]\n",
      " [239.9884491  213.87139893   1.        ]\n",
      " [169.17559814 244.65010071   1.        ]\n",
      " [142.3150177  203.26643372   1.        ]\n",
      " [133.60502625 156.49603271   1.        ]\n",
      " [246.00067139 222.14476013   1.        ]\n",
      " [154.35540771 227.16052246   1.        ]\n",
      " [116.65583801 183.85035706   1.        ]\n",
      " [113.61800385 127.87018585   1.        ]\n",
      " [246.77857971 220.51715088   1.        ]\n",
      " [173.37321472 273.70352173   1.        ]\n",
      " [144.69674683 231.31176758   1.        ]\n",
      " [157.33979797 181.85835266   1.        ]\n",
      " [250.41920471 208.30297852   1.        ]\n",
      " [195.08047485 199.0479126    1.        ]\n",
      " [186.64537048 156.80615234   1.        ]\n",
      " [216.76985168 130.47608948   1.        ]]\n",
      "____________________________\n",
      "b'hand_labels_synth/synth2/00000008.jpg'\n",
      "[[ 58.32463455 253.97390747   1.        ]\n",
      " [ 71.96614838 250.58959961   1.        ]\n",
      " [ 77.69973755 252.55574036   1.        ]\n",
      " [ 98.30401611 233.64587402   1.        ]\n",
      " [125.00696564 205.00941467   1.        ]\n",
      " [162.31504822 231.30342102   1.        ]\n",
      " [202.32843018 218.44581604   1.        ]\n",
      " [214.78533936 201.4708252    1.        ]\n",
      " [235.55511475 187.79899597   1.        ]\n",
      " [164.13389587 207.75672913   1.        ]\n",
      " [214.16346741 181.46304321   1.        ]\n",
      " [229.68417358 160.73390198   1.        ]\n",
      " [251.12130737 142.12731934   1.        ]\n",
      " [158.26364136 187.96855164   1.        ]\n",
      " [216.67247009 163.67156982   1.        ]\n",
      " [235.4002533  143.4132843    1.        ]\n",
      " [256.06222534 123.66183472   1.        ]\n",
      " [144.59367371 172.21035767   1.        ]\n",
      " [180.98577881 148.67443848   1.        ]\n",
      " [198.45274353 130.24165344   1.        ]\n",
      " [207.42648315 112.19787598   1.        ]]\n",
      "____________________________\n",
      "b'hand_labels_synth/synth2/00000009.jpg'\n",
      "[[ 10.9686718  185.40827942   1.        ]\n",
      " [ 56.16934586 203.19737244   1.        ]\n",
      " [ 70.73369598 225.18490601   1.        ]\n",
      " [117.27606964 235.7684021    1.        ]\n",
      " [159.62600708 232.56791687   1.        ]\n",
      " [138.86584473 160.59353638   1.        ]\n",
      " [203.06999207 161.1166687    1.        ]\n",
      " [232.0007019  178.40560913   1.        ]\n",
      " [234.39772034 201.94082642   1.        ]\n",
      " [148.10736084 148.84016418   1.        ]\n",
      " [216.17260742 169.60861206   1.        ]\n",
      " [219.93647766 199.89758301   1.        ]\n",
      " [210.12669373 228.89942932   1.        ]\n",
      " [153.38366699 144.89440918   1.        ]\n",
      " [227.22689819 152.91311646   1.        ]\n",
      " [234.34507751 179.60585022   1.        ]\n",
      " [218.24539185 206.58528137   1.        ]\n",
      " [149.72732544 145.33799744   1.        ]\n",
      " [201.42095947 146.9276123    1.        ]\n",
      " [221.52157593 164.23242188   1.        ]\n"
     ]
    },
    {
     "name": "stdout",
     "output_type": "stream",
     "text": [
      " [208.09584045 188.74313354   1.        ]]\n",
      "____________________________\n",
      "b'hand_labels_synth/synth2/00000010.jpg'\n",
      "[[171.57324219 194.48181152   1.        ]\n",
      " [136.93972778 219.90545654   1.        ]\n",
      " [ 75.77993774 221.85853577   1.        ]\n",
      " [ 97.15272522 215.02442932   1.        ]\n",
      " [140.30342102 207.85397339   1.        ]\n",
      " [130.74980164 165.53787231   1.        ]\n",
      " [125.67121887 166.67961121   1.        ]\n",
      " [142.46551514 196.65644836   1.        ]\n",
      " [156.40223694 219.73135376   1.        ]\n",
      " [173.19244385 149.28369141   1.        ]\n",
      " [156.27859497 131.23539734   1.        ]\n",
      " [169.4841156  174.26591492   1.        ]\n",
      " [183.21821594 213.962677     1.        ]\n",
      " [208.44238281 143.3265686    1.        ]\n",
      " [260.03485107 180.92060852   1.        ]\n",
      " [271.00283813 219.13642883   1.        ]\n",
      " [252.51722717 237.87709045   1.        ]\n",
      " [240.98780823 142.81137085   1.        ]\n",
      " [258.59002686 144.9002533    1.        ]\n",
      " [265.27999878 167.92721558   1.        ]\n",
      " [255.03981018 200.6900177    1.        ]]\n",
      "____________________________\n"
     ]
    }
   ],
   "source": [
    "for i in range(10):\n",
    "    print(custom_dataset.imgs[i])\n",
    "    print(custom_dataset.labels[i])\n",
    "    print(\"____________________________\")"
   ]
  },
  {
   "cell_type": "code",
   "execution_count": 4,
   "metadata": {},
   "outputs": [
    {
     "data": {
      "text/plain": [
       "tensor([123., 123., 123.,  ..., 212., 210., 210.])"
      ]
     },
     "execution_count": 4,
     "metadata": {},
     "output_type": "execute_result"
    }
   ],
   "source": [
    "custom_dataset[0][0][0]"
   ]
  },
  {
   "cell_type": "code",
   "execution_count": 16,
   "metadata": {},
   "outputs": [],
   "source": [
    "test = Image.open('hand_labels_synth/synth2/00000003.jpg')"
   ]
  },
  {
   "cell_type": "code",
   "execution_count": 7,
   "metadata": {},
   "outputs": [],
   "source": [
    "img_tens = transforms.ToTensor()"
   ]
  },
  {
   "cell_type": "code",
   "execution_count": 8,
   "metadata": {},
   "outputs": [],
   "source": [
    "img = img_tens(test)"
   ]
  },
  {
   "cell_type": "code",
   "execution_count": 15,
   "metadata": {},
   "outputs": [
    {
     "data": {
      "text/plain": [
       "tensor([164., 164., 164., 164., 164., 164., 164., 164., 164., 165., 165., 166.,\n",
       "        166., 166., 166., 166., 165., 165., 165., 165., 166., 166., 166., 166.,\n",
       "        166., 168., 168., 169., 169., 169., 169., 169., 169., 169., 169., 169.,\n",
       "        169., 169., 169., 169., 170., 170., 169., 169., 169., 169., 169., 169.,\n",
       "        167., 166., 165., 165., 165., 165., 164., 164., 165., 166., 166., 166.,\n",
       "        166., 166., 166., 166., 166., 166., 166., 166., 166., 166., 166., 166.,\n",
       "        166., 166., 166., 166., 166., 166., 166., 166., 167., 167., 167., 167.,\n",
       "        167., 167., 167., 167., 166., 166., 167., 167., 167., 167., 166., 166.,\n",
       "        166., 166., 166., 166., 166., 166., 167., 167., 167., 167., 167., 167.,\n",
       "        167., 167., 167., 167., 168., 169., 169., 169., 169., 168., 167., 167.,\n",
       "        167., 167., 166., 166., 166., 166., 166., 166., 166., 166., 165., 165.,\n",
       "        165., 165., 164., 164., 165., 164., 164., 166., 166., 165., 166., 167.,\n",
       "        167., 167., 167., 167., 167., 168., 168., 168., 166., 166., 166., 166.,\n",
       "        166., 166., 166., 166., 167., 167., 167., 167., 167., 167., 167., 167.,\n",
       "        167., 167., 167., 167., 167., 167., 167., 167., 167., 167., 167., 166.,\n",
       "        166., 166., 166., 166., 166., 166., 166., 166., 166., 166., 166., 166.,\n",
       "        166., 166., 167., 167., 167., 167., 167., 167., 167., 166., 165., 165.,\n",
       "        166., 166., 166., 166., 166., 166., 166., 166., 166., 166., 165., 165.,\n",
       "        164., 165., 166., 166., 166., 166., 166., 166., 166., 166., 166., 166.,\n",
       "        166., 166., 166., 166., 166., 168., 169., 169., 167., 166., 166., 167.,\n",
       "        167., 167., 166., 166., 166., 166., 166., 166., 165., 165., 165., 165.,\n",
       "        166., 166., 166., 166., 166., 166., 166., 166., 165., 165., 165., 165.,\n",
       "        165., 165., 166., 166., 166., 166., 166., 166., 166., 166., 166., 166.,\n",
       "        166., 166., 165., 165., 164., 164., 164., 164., 164., 164., 164., 164.,\n",
       "        164., 164., 164., 164., 164., 164., 165., 166., 165., 165., 164., 164.,\n",
       "        164., 164., 164., 164., 164., 163., 163., 163., 164., 164., 164., 164.,\n",
       "        165., 164., 164., 163., 163., 163., 163., 163., 163., 163., 163., 163.,\n",
       "        163., 163., 162., 162., 163., 163., 163., 163., 163., 163., 162., 162.,\n",
       "        162., 162., 162., 162., 162., 162., 161., 161., 161., 161., 161., 161.,\n",
       "        161., 161., 161., 161., 161., 161., 161., 161., 161., 161., 161., 161.,\n",
       "        160., 161., 162., 162., 161., 161., 160., 159.])"
      ]
     },
     "execution_count": 15,
     "metadata": {},
     "output_type": "execute_result"
    }
   ],
   "source": [
    "img[0][0]*255"
   ]
  },
  {
   "cell_type": "code",
   "execution_count": 15,
   "metadata": {},
   "outputs": [],
   "source": [
    "pixels_pyt = torch.transpose(torch.Tensor(test.getdata()), 0, 1)"
   ]
  },
  {
   "cell_type": "code",
   "execution_count": 19,
   "metadata": {},
   "outputs": [],
   "source": [
    "pixels_pyt = pixels_pyt.view(3,368,368)"
   ]
  },
  {
   "cell_type": "code",
   "execution_count": 30,
   "metadata": {},
   "outputs": [],
   "source": [
    "pixels_R = torch.Tensor(test.getdata(0))"
   ]
  },
  {
   "cell_type": "code",
   "execution_count": 31,
   "metadata": {},
   "outputs": [
    {
     "data": {
      "text/plain": [
       "tensor([164., 164., 164., 164., 164., 164., 164., 164., 164., 165., 165., 166.,\n",
       "        166., 166., 166., 166., 165., 165., 165., 165., 166., 166., 166., 166.,\n",
       "        166., 168., 168., 169., 169., 169., 169., 169., 169., 169., 169., 169.,\n",
       "        169., 169., 169., 169., 170., 170., 169., 169., 169., 169., 169., 169.,\n",
       "        167., 166., 165., 165., 165., 165., 164., 164., 165., 166., 166., 166.,\n",
       "        166., 166., 166., 166., 166., 166., 166., 166., 166., 166., 166., 166.,\n",
       "        166., 166., 166., 166., 166., 166., 166., 166., 167., 167., 167., 167.,\n",
       "        167., 167., 167., 167., 166., 166., 167., 167., 167., 167., 166., 166.,\n",
       "        166., 166., 166., 166., 166., 166., 167., 167., 167., 167., 167., 167.,\n",
       "        167., 167., 167., 167., 168., 169., 169., 169., 169., 168., 167., 167.,\n",
       "        167., 167., 166., 166., 166., 166., 166., 166., 166., 166., 165., 165.,\n",
       "        165., 165., 164., 164., 165., 164., 164., 166., 166., 165., 166., 167.,\n",
       "        167., 167., 167., 167., 167., 168., 168., 168., 166., 166., 166., 166.,\n",
       "        166., 166., 166., 166., 167., 167., 167., 167., 167., 167., 167., 167.,\n",
       "        167., 167., 167., 167., 167., 167., 167., 167., 167., 167., 167., 166.,\n",
       "        166., 166., 166., 166., 166., 166., 166., 166., 166., 166., 166., 166.,\n",
       "        166., 166., 167., 167., 167., 167., 167., 167., 167., 166., 165., 165.,\n",
       "        166., 166., 166., 166., 166., 166., 166., 166., 166., 166., 165., 165.,\n",
       "        164., 165., 166., 166., 166., 166., 166., 166., 166., 166., 166., 166.,\n",
       "        166., 166., 166., 166., 166., 168., 169., 169., 167., 166., 166., 167.,\n",
       "        167., 167., 166., 166., 166., 166., 166., 166., 165., 165., 165., 165.,\n",
       "        166., 166., 166., 166., 166., 166., 166., 166., 165., 165., 165., 165.,\n",
       "        165., 165., 166., 166., 166., 166., 166., 166., 166., 166., 166., 166.,\n",
       "        166., 166., 165., 165., 164., 164., 164., 164., 164., 164., 164., 164.,\n",
       "        164., 164., 164., 164., 164., 164., 165., 166., 165., 165., 164., 164.,\n",
       "        164., 164., 164., 164., 164., 163., 163., 163., 164., 164., 164., 164.,\n",
       "        165., 164., 164., 163., 163., 163., 163., 163., 163., 163., 163., 163.,\n",
       "        163., 163., 162., 162., 163., 163., 163., 163., 163., 163., 162., 162.,\n",
       "        162., 162., 162., 162., 162., 162., 161., 161., 161., 161., 161., 161.,\n",
       "        161., 161., 161., 161., 161., 161., 161., 161., 161., 161., 161., 161.,\n",
       "        160., 161., 162., 162., 161., 161., 160., 159.])"
      ]
     },
     "execution_count": 31,
     "metadata": {},
     "output_type": "execute_result"
    }
   ],
   "source": [
    "pixels_R[:368]"
   ]
  },
  {
   "cell_type": "code",
   "execution_count": 32,
   "metadata": {},
   "outputs": [],
   "source": [
    "pixels_R2 = pixels_R.view(368,368)"
   ]
  },
  {
   "cell_type": "code",
   "execution_count": 36,
   "metadata": {},
   "outputs": [
    {
     "name": "stdout",
     "output_type": "stream",
     "text": [
      "yes\n"
     ]
    }
   ],
   "source": [
    "if torch.all(torch.eq(pixels_R[:368], pixels_R2[0])):\n",
    "    print(\"yes\")"
   ]
  },
  {
   "cell_type": "code",
   "execution_count": 26,
   "metadata": {},
   "outputs": [
    {
     "ename": "RuntimeError",
     "evalue": "bool value of Tensor with more than one value is ambiguous",
     "output_type": "error",
     "traceback": [
      "\u001b[1;31m---------------------------------------------------------------------------\u001b[0m",
      "\u001b[1;31mRuntimeError\u001b[0m                              Traceback (most recent call last)",
      "\u001b[1;32m<ipython-input-26-64e441e986f9>\u001b[0m in \u001b[0;36m<module>\u001b[1;34m()\u001b[0m\n\u001b[1;32m----> 1\u001b[1;33m \u001b[1;32mif\u001b[0m \u001b[0mpixels_pyt\u001b[0m\u001b[1;33m[\u001b[0m\u001b[1;36m0\u001b[0m\u001b[1;33m]\u001b[0m \u001b[1;33m==\u001b[0m \u001b[0mpixels_R\u001b[0m\u001b[1;33m:\u001b[0m\u001b[1;33m\u001b[0m\u001b[0m\n\u001b[0m\u001b[0;32m      2\u001b[0m     \u001b[0mprint\u001b[0m\u001b[1;33m(\u001b[0m\u001b[1;34m\"Yes\"\u001b[0m\u001b[1;33m)\u001b[0m\u001b[1;33m\u001b[0m\u001b[0m\n\u001b[0;32m      3\u001b[0m \u001b[1;32melse\u001b[0m\u001b[1;33m:\u001b[0m\u001b[1;33m\u001b[0m\u001b[0m\n\u001b[0;32m      4\u001b[0m     \u001b[0mprint\u001b[0m\u001b[1;33m(\u001b[0m\u001b[1;34m\"No\"\u001b[0m\u001b[1;33m)\u001b[0m\u001b[1;33m\u001b[0m\u001b[0m\n",
      "\u001b[1;31mRuntimeError\u001b[0m: bool value of Tensor with more than one value is ambiguous"
     ]
    }
   ],
   "source": [
    "if pixels_pyt[0] == pixels_R:\n",
    "    print(\"Yes\")\n",
    "else:\n",
    "    print(\"No\")"
   ]
  },
  {
   "cell_type": "code",
   "execution_count": 17,
   "metadata": {},
   "outputs": [],
   "source": [
    "pixels_pyt = torch.Tensor(test.getdata())"
   ]
  },
  {
   "cell_type": "code",
   "execution_count": 18,
   "metadata": {},
   "outputs": [
    {
     "data": {
      "text/plain": [
       "torch.Size([135424, 3])"
      ]
     },
     "execution_count": 18,
     "metadata": {},
     "output_type": "execute_result"
    }
   ],
   "source": [
    "pixels_pyt.shape"
   ]
  },
  {
   "cell_type": "code",
   "execution_count": 106,
   "metadata": {},
   "outputs": [],
   "source": [
    "avg_pyt = pixels_pyt.mean(dim=1)"
   ]
  },
  {
   "cell_type": "code",
   "execution_count": 107,
   "metadata": {},
   "outputs": [
    {
     "data": {
      "text/plain": [
       "tensor([169.0108, 163.1679, 154.7177])"
      ]
     },
     "execution_count": 107,
     "metadata": {},
     "output_type": "execute_result"
    }
   ],
   "source": [
    "avg_pyt"
   ]
  },
  {
   "cell_type": "code",
   "execution_count": 103,
   "metadata": {},
   "outputs": [
    {
     "data": {
      "text/plain": [
       "tensor([164., 174., 163.])"
      ]
     },
     "execution_count": 103,
     "metadata": {},
     "output_type": "execute_result"
    }
   ],
   "source": [
    "pixels_pyt[0][:]"
   ]
  },
  {
   "cell_type": "code",
   "execution_count": 83,
   "metadata": {},
   "outputs": [],
   "source": [
    "avg_pyt2 = pixels_pyt[1].mean()"
   ]
  },
  {
   "cell_type": "code",
   "execution_count": 84,
   "metadata": {},
   "outputs": [
    {
     "data": {
      "text/plain": [
       "tensor(163.1422)"
      ]
     },
     "execution_count": 84,
     "metadata": {},
     "output_type": "execute_result"
    }
   ],
   "source": [
    "avg_pyt2"
   ]
  },
  {
   "cell_type": "code",
   "execution_count": 82,
   "metadata": {},
   "outputs": [
    {
     "data": {
      "text/plain": [
       "tensor([[164., 164., 164.,  ..., 173., 173., 173.],\n",
       "        [174., 174., 174.,  ..., 183., 183., 183.],\n",
       "        [163., 163., 163.,  ..., 174., 174., 174.]])"
      ]
     },
     "execution_count": 82,
     "metadata": {},
     "output_type": "execute_result"
    }
   ],
   "source": [
    "pixels_pyt"
   ]
  },
  {
   "cell_type": "code",
   "execution_count": 65,
   "metadata": {},
   "outputs": [],
   "source": [
    "test.thumbnail((1,1))"
   ]
  },
  {
   "cell_type": "code",
   "execution_count": 49,
   "metadata": {},
   "outputs": [],
   "source": [
    "avg = test.getpixel((0,0))"
   ]
  },
  {
   "cell_type": "code",
   "execution_count": 50,
   "metadata": {},
   "outputs": [
    {
     "data": {
      "text/plain": [
       "159.0"
      ]
     },
     "execution_count": 50,
     "metadata": {},
     "output_type": "execute_result"
    }
   ],
   "source": [
    "np.mean(avg)"
   ]
  },
  {
   "cell_type": "code",
   "execution_count": null,
   "metadata": {},
   "outputs": [],
   "source": [
    "custom_dataset[3]"
   ]
  },
  {
   "cell_type": "code",
   "execution_count": 17,
   "metadata": {},
   "outputs": [],
   "source": [
    "xyz = torchvision.datasets.ImageFolder('hand_labels_synth/', transforms.Normalize(150,40))"
   ]
  },
  {
   "cell_type": "code",
   "execution_count": 18,
   "metadata": {},
   "outputs": [
    {
     "ename": "TypeError",
     "evalue": "tensor is not a torch image.",
     "output_type": "error",
     "traceback": [
      "\u001b[1;31m---------------------------------------------------------------------------\u001b[0m",
      "\u001b[1;31mTypeError\u001b[0m                                 Traceback (most recent call last)",
      "\u001b[1;32m<ipython-input-18-c555fef91613>\u001b[0m in \u001b[0;36m<module>\u001b[1;34m()\u001b[0m\n\u001b[1;32m----> 1\u001b[1;33m \u001b[0mxyz\u001b[0m\u001b[1;33m[\u001b[0m\u001b[1;36m0\u001b[0m\u001b[1;33m]\u001b[0m\u001b[1;33m\u001b[0m\u001b[0m\n\u001b[0m",
      "\u001b[1;32m~\\Anaconda3\\lib\\site-packages\\torchvision\\datasets\\folder.py\u001b[0m in \u001b[0;36m__getitem__\u001b[1;34m(self, index)\u001b[0m\n\u001b[0;32m    101\u001b[0m         \u001b[0msample\u001b[0m \u001b[1;33m=\u001b[0m \u001b[0mself\u001b[0m\u001b[1;33m.\u001b[0m\u001b[0mloader\u001b[0m\u001b[1;33m(\u001b[0m\u001b[0mpath\u001b[0m\u001b[1;33m)\u001b[0m\u001b[1;33m\u001b[0m\u001b[0m\n\u001b[0;32m    102\u001b[0m         \u001b[1;32mif\u001b[0m \u001b[0mself\u001b[0m\u001b[1;33m.\u001b[0m\u001b[0mtransform\u001b[0m \u001b[1;32mis\u001b[0m \u001b[1;32mnot\u001b[0m \u001b[1;32mNone\u001b[0m\u001b[1;33m:\u001b[0m\u001b[1;33m\u001b[0m\u001b[0m\n\u001b[1;32m--> 103\u001b[1;33m             \u001b[0msample\u001b[0m \u001b[1;33m=\u001b[0m \u001b[0mself\u001b[0m\u001b[1;33m.\u001b[0m\u001b[0mtransform\u001b[0m\u001b[1;33m(\u001b[0m\u001b[0msample\u001b[0m\u001b[1;33m)\u001b[0m\u001b[1;33m\u001b[0m\u001b[0m\n\u001b[0m\u001b[0;32m    104\u001b[0m         \u001b[1;32mif\u001b[0m \u001b[0mself\u001b[0m\u001b[1;33m.\u001b[0m\u001b[0mtarget_transform\u001b[0m \u001b[1;32mis\u001b[0m \u001b[1;32mnot\u001b[0m \u001b[1;32mNone\u001b[0m\u001b[1;33m:\u001b[0m\u001b[1;33m\u001b[0m\u001b[0m\n\u001b[0;32m    105\u001b[0m             \u001b[0mtarget\u001b[0m \u001b[1;33m=\u001b[0m \u001b[0mself\u001b[0m\u001b[1;33m.\u001b[0m\u001b[0mtarget_transform\u001b[0m\u001b[1;33m(\u001b[0m\u001b[0mtarget\u001b[0m\u001b[1;33m)\u001b[0m\u001b[1;33m\u001b[0m\u001b[0m\n",
      "\u001b[1;32m~\\Anaconda3\\lib\\site-packages\\torchvision\\transforms\\transforms.py\u001b[0m in \u001b[0;36m__call__\u001b[1;34m(self, tensor)\u001b[0m\n\u001b[0;32m    141\u001b[0m             \u001b[0mTensor\u001b[0m\u001b[1;33m:\u001b[0m \u001b[0mNormalized\u001b[0m \u001b[0mTensor\u001b[0m \u001b[0mimage\u001b[0m\u001b[1;33m.\u001b[0m\u001b[1;33m\u001b[0m\u001b[0m\n\u001b[0;32m    142\u001b[0m         \"\"\"\n\u001b[1;32m--> 143\u001b[1;33m         \u001b[1;32mreturn\u001b[0m \u001b[0mF\u001b[0m\u001b[1;33m.\u001b[0m\u001b[0mnormalize\u001b[0m\u001b[1;33m(\u001b[0m\u001b[0mtensor\u001b[0m\u001b[1;33m,\u001b[0m \u001b[0mself\u001b[0m\u001b[1;33m.\u001b[0m\u001b[0mmean\u001b[0m\u001b[1;33m,\u001b[0m \u001b[0mself\u001b[0m\u001b[1;33m.\u001b[0m\u001b[0mstd\u001b[0m\u001b[1;33m)\u001b[0m\u001b[1;33m\u001b[0m\u001b[0m\n\u001b[0m\u001b[0;32m    144\u001b[0m \u001b[1;33m\u001b[0m\u001b[0m\n\u001b[0;32m    145\u001b[0m     \u001b[1;32mdef\u001b[0m \u001b[0m__repr__\u001b[0m\u001b[1;33m(\u001b[0m\u001b[0mself\u001b[0m\u001b[1;33m)\u001b[0m\u001b[1;33m:\u001b[0m\u001b[1;33m\u001b[0m\u001b[0m\n",
      "\u001b[1;32m~\\Anaconda3\\lib\\site-packages\\torchvision\\transforms\\functional.py\u001b[0m in \u001b[0;36mnormalize\u001b[1;34m(tensor, mean, std)\u001b[0m\n\u001b[0;32m    163\u001b[0m     \"\"\"\n\u001b[0;32m    164\u001b[0m     \u001b[1;32mif\u001b[0m \u001b[1;32mnot\u001b[0m \u001b[0m_is_tensor_image\u001b[0m\u001b[1;33m(\u001b[0m\u001b[0mtensor\u001b[0m\u001b[1;33m)\u001b[0m\u001b[1;33m:\u001b[0m\u001b[1;33m\u001b[0m\u001b[0m\n\u001b[1;32m--> 165\u001b[1;33m         \u001b[1;32mraise\u001b[0m \u001b[0mTypeError\u001b[0m\u001b[1;33m(\u001b[0m\u001b[1;34m'tensor is not a torch image.'\u001b[0m\u001b[1;33m)\u001b[0m\u001b[1;33m\u001b[0m\u001b[0m\n\u001b[0m\u001b[0;32m    166\u001b[0m     \u001b[1;31m# TODO: make efficient\u001b[0m\u001b[1;33m\u001b[0m\u001b[1;33m\u001b[0m\u001b[0m\n\u001b[0;32m    167\u001b[0m     \u001b[1;32mfor\u001b[0m \u001b[0mt\u001b[0m\u001b[1;33m,\u001b[0m \u001b[0mm\u001b[0m\u001b[1;33m,\u001b[0m \u001b[0ms\u001b[0m \u001b[1;32min\u001b[0m \u001b[0mzip\u001b[0m\u001b[1;33m(\u001b[0m\u001b[0mtensor\u001b[0m\u001b[1;33m,\u001b[0m \u001b[0mmean\u001b[0m\u001b[1;33m,\u001b[0m \u001b[0mstd\u001b[0m\u001b[1;33m)\u001b[0m\u001b[1;33m:\u001b[0m\u001b[1;33m\u001b[0m\u001b[0m\n",
      "\u001b[1;31mTypeError\u001b[0m: tensor is not a torch image."
     ]
    }
   ],
   "source": [
    "xyz[0]"
   ]
  },
  {
   "cell_type": "code",
   "execution_count": 47,
   "metadata": {},
   "outputs": [],
   "source": [
    "y = np.chararray(3, itemsize=37)"
   ]
  },
  {
   "cell_type": "code",
   "execution_count": 50,
   "metadata": {},
   "outputs": [],
   "source": [
    "y[0] = 'hand_labels_synth/synth2/00000002.jpg'.encode('utf-8')"
   ]
  },
  {
   "cell_type": "code",
   "execution_count": 51,
   "metadata": {},
   "outputs": [
    {
     "data": {
      "text/plain": [
       "b'hand_labels_synth/synth2/00000002.jpg'"
      ]
     },
     "execution_count": 51,
     "metadata": {},
     "output_type": "execute_result"
    }
   ],
   "source": [
    "y[0]"
   ]
  },
  {
   "cell_type": "code",
   "execution_count": 52,
   "metadata": {},
   "outputs": [
    {
     "data": {
      "text/plain": [
       "chararray([b'hand_labels_synth/synth2/00000002.jpg', '', ''], dtype='|S37')"
      ]
     },
     "execution_count": 52,
     "metadata": {},
     "output_type": "execute_result"
    }
   ],
   "source": [
    "y"
   ]
  },
  {
   "cell_type": "code",
   "execution_count": 55,
   "metadata": {},
   "outputs": [],
   "source": [
    "test = Image.open('hand_labels_synth/synth2/00000002.jpg')"
   ]
  },
  {
   "cell_type": "code",
   "execution_count": 56,
   "metadata": {},
   "outputs": [
    {
     "data": {
      "image/png": "[encoded data removed]",
      "text/plain": [
       "<PIL.Image.Image image mode=L size=368x368 at 0x2642C00A588>"
      ]
     },
     "execution_count": 56,
     "metadata": {},
     "output_type": "execute_result"
    }
   ],
   "source": [
    "test.getchannel(0)"
   ]
  },
  {
   "cell_type": "code",
   "execution_count": 63,
   "metadata": {},
   "outputs": [
    {
     "data": {
      "text/plain": [
       "[173, 172, 171, 171, 173, 173, 171, 169, 171, 171]"
      ]
     },
     "execution_count": 63,
     "metadata": {},
     "output_type": "execute_result"
    }
   ],
   "source": [
    "list(test.getdata(0))[:10]"
   ]
  },
  {
   "cell_type": "code",
   "execution_count": 65,
   "metadata": {},
   "outputs": [
    {
     "data": {
      "text/plain": [
       "((8, 255), (14, 242), (4, 253))"
      ]
     },
     "execution_count": 65,
     "metadata": {},
     "output_type": "execute_result"
    }
   ],
   "source": [
    "test.getextrema()"
   ]
  },
  {
   "cell_type": "code",
   "execution_count": 57,
   "metadata": {},
   "outputs": [
    {
     "data": {
      "image/png": "[encoded data removed]",
      "text/plain": [
       "<PIL.Image.Image image mode=L size=368x368 at 0x2642C232828>"
      ]
     },
     "execution_count": 57,
     "metadata": {},
     "output_type": "execute_result"
    }
   ],
   "source": [
    "test.getchannel(1)"
   ]
  },
  {
   "cell_type": "code",
   "execution_count": 68,
   "metadata": {},
   "outputs": [
    {
     "data": {
      "text/plain": [
       "135424"
      ]
     },
     "execution_count": 68,
     "metadata": {},
     "output_type": "execute_result"
    }
   ],
   "source": [
    "len(list(test.getdata(1)))"
   ]
  },
  {
   "cell_type": "code",
   "execution_count": 58,
   "metadata": {},
   "outputs": [
    {
     "data": {
      "image/png": "[encoded data removed]",
      "text/plain": [
       "<PIL.Image.Image image mode=L size=368x368 at 0x2642C2328D0>"
      ]
     },
     "execution_count": 58,
     "metadata": {},
     "output_type": "execute_result"
    }
   ],
   "source": [
    "test.getchannel(2)"
   ]
  },
  {
   "cell_type": "code",
   "execution_count": 70,
   "metadata": {},
   "outputs": [
    {
     "name": "stdout",
     "output_type": "stream",
     "text": [
      "[[[[0.9648088  0.05709243 0.92793206 0.26824686 0.48057187]\n",
      "   [0.95120126 0.43220328 0.05977706 0.36434073 0.87764996]\n",
      "   [0.98379028 0.62221659 0.70274797 0.95041072 0.61272719]\n",
      "   [0.46153802 0.11113255 0.40861071 0.25367224 0.16147814]\n",
      "   [0.74468108 0.41430727 0.07257616 0.70434945 0.5507269 ]]\n",
      "\n",
      "  [[0.80266983 0.84377116 0.96467525 0.42821848 0.2623264 ]\n",
      "   [0.92146763 0.76795984 0.5259411  0.61540254 0.859629  ]\n",
      "   [0.64739816 0.65269956 0.1600775  0.86908959 0.87207854]\n",
      "   [0.07750449 0.01726592 0.87822514 0.06020708 0.49129889]\n",
      "   [0.42841295 0.54272383 0.7804696  0.74964732 0.80602968]]\n",
      "\n",
      "  [[0.69647678 0.07361665 0.59378825 0.78613067 0.72515967]\n",
      "   [0.54659109 0.25920384 0.57939042 0.49268974 0.13963763]\n",
      "   [0.92239341 0.1035593  0.4472801  0.84263407 0.05472348]\n",
      "   [0.44599018 0.87760108 0.38802484 0.71923927 0.88104872]\n",
      "   [0.17406855 0.71543184 0.44110646 0.8850873  0.21427386]]]\n",
      "\n",
      "\n",
      " [[[0.70771375 0.84101688 0.92224003 0.48078329 0.28120733]\n",
      "   [0.73040739 0.11192358 0.04265114 0.77154723 0.2949284 ]\n",
      "   [0.19721458 0.73830635 0.95584742 0.45886375 0.68379054]\n",
      "   [0.30407631 0.97959005 0.3160458  0.19684121 0.03949984]\n",
      "   [0.53560139 0.54387256 0.29974962 0.68965843 0.96758681]]\n",
      "\n",
      "  [[0.87195985 0.71315506 0.72505098 0.27526316 0.24906222]\n",
      "   [0.08677501 0.24779813 0.61932489 0.004656   0.20084865]\n",
      "   [0.52141655 0.96762733 0.19367944 0.03464019 0.84982751]\n",
      "   [0.73290742 0.54997678 0.01385173 0.97207887 0.23233925]\n",
      "   [0.32723172 0.6087509  0.39794807 0.05349801 0.77636877]]\n",
      "\n",
      "  [[0.6117726  0.55341107 0.02667545 0.81931476 0.93802533]\n",
      "   [0.51685673 0.50633249 0.15401232 0.20042    0.71352439]\n",
      "   [0.67577528 0.69785593 0.82913827 0.04604327 0.30855208]\n",
      "   [0.29085757 0.91980144 0.74638073 0.85340066 0.15168583]\n",
      "   [0.7592345  0.80666389 0.22348889 0.7454011  0.92536839]]]\n",
      "\n",
      "\n",
      " [[[0.01621828 0.27060639 0.53514688 0.17142279 0.72845261]\n",
      "   [0.00250942 0.19095548 0.54626574 0.30555086 0.86217554]\n",
      "   [0.96154853 0.80610045 0.12048709 0.86193869 0.02342745]\n",
      "   [0.7467583  0.68251572 0.77344718 0.61566274 0.66607413]\n",
      "   [0.04818828 0.47695637 0.47196795 0.54507122 0.50850898]]\n",
      "\n",
      "  [[0.23817532 0.7282499  0.20265042 0.56501677 0.36110075]\n",
      "   [0.14692642 0.95445674 0.33349543 0.23005551 0.67564519]\n",
      "   [0.03538594 0.12518632 0.92565222 0.90432779 0.45625356]\n",
      "   [0.14917897 0.47481102 0.85391842 0.36110692 0.81416834]\n",
      "   [0.83311418 0.40793483 0.18176686 0.43767446 0.22130046]]\n",
      "\n",
      "  [[0.69502262 0.08898035 0.23569874 0.45592931 0.59740064]\n",
      "   [0.84250457 0.05777496 0.83934387 0.59265244 0.91943741]\n",
      "   [0.68679857 0.72989828 0.63821924 0.14706883 0.39642772]\n",
      "   [0.22711187 0.53062764 0.93729729 0.00865886 0.39411056]\n",
      "   [0.81593371 0.39135313 0.31181733 0.0834163  0.43162595]]]\n",
      "\n",
      "\n",
      " [[[0.48815906 0.24859317 0.72449549 0.175777   0.64985418]\n",
      "   [0.94601477 0.25536124 0.43617889 0.41374029 0.24291171]\n",
      "   [0.09342425 0.80537719 0.74525726 0.06623457 0.87157422]\n",
      "   [0.37432527 0.16439591 0.77272531 0.05318185 0.52467594]\n",
      "   [0.21981336 0.54707112 0.86875552 0.19074563 0.38358093]]\n",
      "\n",
      "  [[0.36674966 0.3655291  0.64776601 0.94686734 0.1518556 ]\n",
      "   [0.08562158 0.05295094 0.82737921 0.77233097 0.63281705]\n",
      "   [0.44342453 0.56195046 0.91413315 0.27795443 0.26345789]\n",
      "   [0.52186718 0.95902929 0.89290194 0.77280191 0.5156803 ]\n",
      "   [0.29903643 0.05909846 0.82880315 0.73509458 0.19139848]]\n",
      "\n",
      "  [[0.60087999 0.39907445 0.43900663 0.08403686 0.76273818]\n",
      "   [0.35450992 0.04586877 0.19992337 0.62399198 0.77517327]\n",
      "   [0.11792028 0.00147159 0.6116815  0.01839959 0.91179423]\n",
      "   [0.35938953 0.88495271 0.13469488 0.91536773 0.78815114]\n",
      "   [0.66313039 0.3950189  0.61514744 0.52892092 0.55973156]]]\n",
      "\n",
      "\n",
      " [[[0.25641975 0.02885424 0.92258883 0.64174745 0.71120741]\n",
      "   [0.33124747 0.51881379 0.84710272 0.8161754  0.11911242]\n",
      "   [0.04625122 0.61340547 0.71021238 0.46466774 0.85840121]\n",
      "   [0.88347458 0.95997056 0.21273785 0.32495291 0.53849218]\n",
      "   [0.51928684 0.53770278 0.90209817 0.59396701 0.94525017]]\n",
      "\n",
      "  [[0.91539654 0.8586056  0.61841439 0.86166484 0.50772289]\n",
      "   [0.63542549 0.43243533 0.54355073 0.98875935 0.80711801]\n",
      "   [0.16317853 0.44744941 0.4601485  0.73640717 0.38397493]\n",
      "   [0.29813186 0.10826039 0.04305568 0.02531744 0.72147382]\n",
      "   [0.92422753 0.00245113 0.5752062  0.34824463 0.56600279]]\n",
      "\n",
      "  [[0.20577588 0.73091756 0.04292942 0.23455101 0.09774418]\n",
      "   [0.81412277 0.534716   0.17436341 0.88376406 0.07033344]\n",
      "   [0.72524991 0.53857849 0.63513914 0.31849773 0.32556415]\n",
      "   [0.49771756 0.71482862 0.82402022 0.47284871 0.95425669]\n",
      "   [0.30338356 0.29617458 0.02030636 0.24335133 0.26142858]]]\n",
      "\n",
      "\n",
      " [[[0.51859572 0.16278169 0.1161047  0.04147677 0.13285966]\n",
      "   [0.63547811 0.28969429 0.25307499 0.1140738  0.40541597]\n",
      "   [0.41766768 0.05584792 0.40607341 0.60664353 0.93726624]\n",
      "   [0.91057512 0.11188931 0.86221372 0.35072747 0.55251418]\n",
      "   [0.54266729 0.72289876 0.78024734 0.15299942 0.70356422]]\n",
      "\n",
      "  [[0.58781667 0.42121067 0.97558534 0.59816493 0.94931684]\n",
      "   [0.73753738 0.25296476 0.62317866 0.45083083 0.32021951]\n",
      "   [0.40558681 0.7865943  0.758191   0.98556779 0.95708566]\n",
      "   [0.82440019 0.25625888 0.29450843 0.21344959 0.88112742]\n",
      "   [0.44755074 0.15378722 0.99863639 0.57828011 0.90429544]]\n",
      "\n",
      "  [[0.88816176 0.64295791 0.35493114 0.50883839 0.82596731]\n",
      "   [0.60454899 0.42112645 0.89200158 0.36650541 0.77054745]\n",
      "   [0.46296013 0.90818681 0.21712436 0.64758448 0.87499687]\n",
      "   [0.75030212 0.86098813 0.80454824 0.04033224 0.72266616]\n",
      "   [0.16579158 0.45330338 0.94953879 0.62614362 0.65695053]]]\n",
      "\n",
      "\n",
      " [[[0.07900991 0.36940739 0.13024823 0.54169665 0.54571599]\n",
      "   [0.70066655 0.82333566 0.36896254 0.28579535 0.11879716]\n",
      "   [0.95781154 0.86555545 0.97063061 0.25073155 0.71170606]\n",
      "   [0.22605548 0.44455452 0.76468526 0.32562914 0.71456158]\n",
      "   [0.27056587 0.96962647 0.43680176 0.37159044 0.52855091]]\n",
      "\n",
      "  [[0.24508526 0.36955314 0.7614742  0.31969907 0.87763998]\n",
      "   [0.19204607 0.23849644 0.52477537 0.96243209 0.52425072]\n",
      "   [0.42471872 0.46010871 0.16889104 0.93765647 0.06807112]\n",
      "   [0.67737795 0.52725218 0.62209814 0.98284277 0.08795061]\n",
      "   [0.00272125 0.77394113 0.27304148 0.55568852 0.43711781]]\n",
      "\n",
      "  [[0.11790186 0.99640077 0.08498566 0.40664393 0.55674883]\n",
      "   [0.49958625 0.06996419 0.29016122 0.4712566  0.31905743]\n",
      "   [0.40211869 0.25077649 0.32582353 0.79900562 0.43769896]\n",
      "   [0.76457125 0.38489904 0.36759191 0.811287   0.22033932]\n",
      "   [0.67936386 0.34186498 0.27586709 0.59238846 0.38010151]]]\n",
      "\n",
      "\n",
      " [[[0.07715649 0.51201013 0.02799199 0.08162976 0.54103599]\n",
      "   [0.77621106 0.59220639 0.8322413  0.26985914 0.44206649]\n",
      "   [0.33395614 0.33422162 0.87816208 0.90753938 0.86264247]\n",
      "   [0.32546158 0.32135606 0.25993442 0.73337285 0.50498812]\n",
      "   [0.45298164 0.64504986 0.93826862 0.54065764 0.4723775 ]]\n",
      "\n",
      "  [[0.74968205 0.71869369 0.13488324 0.07519039 0.9772065 ]\n",
      "   [0.61698756 0.63285677 0.26621737 0.09824297 0.53640613]\n",
      "   [0.92401408 0.58179036 0.08106639 0.61436496 0.24426117]\n",
      "   [0.57021777 0.75285071 0.58262759 0.4155528  0.92781444]\n",
      "   [0.07316305 0.36560067 0.85660997 0.46040796 0.61988007]]\n",
      "\n",
      "  [[0.41821638 0.91368297 0.24755985 0.80471652 0.18162802]\n",
      "   [0.34216507 0.83923742 0.92772364 0.41035459 0.5394934 ]\n",
      "   [0.94266266 0.23172788 0.10931371 0.1057916  0.70674364]\n",
      "   [0.56639106 0.22760499 0.30280441 0.28412951 0.37640761]\n",
      "   [0.25553873 0.58916105 0.38414656 0.05883125 0.84625617]]]\n",
      "\n",
      "\n",
      " [[[0.35478424 0.72821781 0.18195653 0.25862333 0.74854768]\n",
      "   [0.14385265 0.32162888 0.85088815 0.47443031 0.29739575]\n",
      "   [0.62680343 0.26964077 0.68202458 0.01645281 0.332653  ]\n",
      "   [0.75782664 0.30069923 0.82654295 0.49989015 0.57862957]\n",
      "   [0.49530415 0.37371382 0.03635137 0.06403925 0.03115649]]\n",
      "\n",
      "  [[0.00670249 0.96825778 0.58550376 0.68267308 0.98736304]\n",
      "   [0.6617841  0.42674006 0.33856847 0.63124144 0.8595294 ]\n",
      "   [0.22239656 0.4604682  0.85505318 0.61574893 0.67198239]\n",
      "   [0.39459211 0.16141688 0.37421734 0.71389409 0.78894182]\n",
      "   [0.80933181 0.74541247 0.02192987 0.18984113 0.02044017]]\n",
      "\n",
      "  [[0.53965931 0.78549221 0.84590723 0.24508821 0.0497493 ]\n",
      "   [0.10583172 0.12674163 0.48012914 0.74063002 0.22050531]\n",
      "   [0.9378287  0.07625764 0.12661308 0.7396083  0.47904005]\n",
      "   [0.18410849 0.33892169 0.75393198 0.56560818 0.35050749]\n",
      "   [0.64085252 0.56908898 0.72644864 0.83628922 0.06173565]]]\n",
      "\n",
      "\n",
      " [[[0.58419186 0.08330763 0.19392337 0.2544092  0.88014231]\n",
      "   [0.75671151 0.72133459 0.712509   0.11094859 0.77789368]\n",
      "   [0.93154898 0.55278226 0.82226169 0.94466425 0.11247378]\n",
      "   [0.6516519  0.79388195 0.98690622 0.7185409  0.65506521]\n",
      "   [0.96780861 0.73884641 0.09262727 0.45683936 0.51084817]]\n",
      "\n",
      "  [[0.77589224 0.57075712 0.29825972 0.51592821 0.12400077]\n",
      "   [0.78725705 0.63837516 0.50785873 0.1299016  0.72097554]\n",
      "   [0.88036697 0.7564814  0.20102272 0.87563575 0.63424732]\n",
      "   [0.95668961 0.39643996 0.60698412 0.2767494  0.779287  ]\n",
      "   [0.82878589 0.31440577 0.58074969 0.04770284 0.1134237 ]]\n",
      "\n",
      "  [[0.16685139 0.50044472 0.17656686 0.11899302 0.54738012]\n",
      "   [0.79879584 0.50189384 0.21732901 0.24644607 0.4306461 ]\n",
      "   [0.18158604 0.92812892 0.09587629 0.12088201 0.20234133]\n",
      "   [0.43075888 0.51948034 0.73725168 0.05462901 0.12618042]\n"
     ]
    },
    {
     "name": "stdout",
     "output_type": "stream",
     "text": [
      "   [0.22866185 0.00659542 0.70393794 0.98617657 0.08393019]]]]\n"
     ]
    }
   ],
   "source": [
    "x = np.random.rand(10,3,5,5)\n",
    "print(x)"
   ]
  },
  {
   "cell_type": "code",
   "execution_count": 72,
   "metadata": {},
   "outputs": [
    {
     "data": {
      "text/plain": [
       "array([[0.48493021, 0.51815499, 0.45483135, 0.42162473, 0.54765772],\n",
       "       [0.54238805, 0.40884503, 0.49381065, 0.46130086, 0.51580474],\n",
       "       [0.54243991, 0.53100838, 0.52492763, 0.53883519, 0.53685949],\n",
       "       [0.51206031, 0.51110845, 0.5780928 , 0.45306578, 0.53804716],\n",
       "       [0.48188111, 0.48362693, 0.50154702, 0.46840012, 0.48932703]])"
      ]
     },
     "execution_count": 72,
     "metadata": {},
     "output_type": "execute_result"
    }
   ],
   "source": [
    "np.mean((np.mean(x, axis=0)), axis=0)"
   ]
  },
  {
   "cell_type": "code",
   "execution_count": 60,
   "metadata": {},
   "outputs": [],
   "source": [
    "x -= np.mean(x, axis=0)"
   ]
  },
  {
   "cell_type": "code",
   "execution_count": 61,
   "metadata": {},
   "outputs": [
    {
     "data": {
      "text/plain": [
       "array([[[-0.21112597, -0.15443933],\n",
       "        [ 0.44042661,  0.05073408],\n",
       "        [-0.32248293, -0.21910503]],\n",
       "\n",
       "       [[-0.32722791, -0.0529118 ],\n",
       "        [ 0.15418845,  0.05928811],\n",
       "        [ 0.28084017, -0.34011714]],\n",
       "\n",
       "       [[ 0.2356672 ,  0.36936049],\n",
       "        [ 0.06588811,  0.36613803],\n",
       "        [-0.30632838,  0.12778297]],\n",
       "\n",
       "       [[ 0.11741244, -0.30932389],\n",
       "        [-0.15561427,  0.34968278],\n",
       "        [-0.16434306,  0.08842033]],\n",
       "\n",
       "       [[ 0.43754459, -0.41187899],\n",
       "        [ 0.24735023,  0.36121104],\n",
       "        [ 0.08609029, -0.39754719]],\n",
       "\n",
       "       [[-0.26264654,  0.26781767],\n",
       "        [-0.21380957,  0.05777955],\n",
       "        [-0.12585554,  0.27958354]],\n",
       "\n",
       "       [[-0.39579469,  0.08445018],\n",
       "        [-0.23602806, -0.31995585],\n",
       "        [ 0.44766259,  0.54282613]],\n",
       "\n",
       "       [[ 0.5428839 ,  0.10519816],\n",
       "        [-0.12558167,  0.08305846],\n",
       "        [ 0.27674948, -0.02178301]],\n",
       "\n",
       "       [[-0.09346535,  0.32228036],\n",
       "        [-0.35668226, -0.40864712],\n",
       "        [ 0.01589023, -0.39299192]],\n",
       "\n",
       "       [[-0.04324766, -0.22055285],\n",
       "        [ 0.17986244, -0.59928908],\n",
       "        [-0.18822285,  0.33293133]]])"
      ]
     },
     "execution_count": 61,
     "metadata": {},
     "output_type": "execute_result"
    }
   ],
   "source": [
    "x"
   ]
  },
  {
   "cell_type": "code",
   "execution_count": 24,
   "metadata": {},
   "outputs": [
    {
     "data": {
      "text/plain": [
       "array([[1., 1.],\n",
       "       [1., 1.],\n",
       "       [1., 1.]])"
      ]
     },
     "execution_count": 24,
     "metadata": {},
     "output_type": "execute_result"
    }
   ],
   "source": [
    "np.std(x,axis=0)"
   ]
  },
  {
   "cell_type": "code",
   "execution_count": 22,
   "metadata": {},
   "outputs": [
    {
     "data": {
      "text/plain": [
       "array([[[ 1.41425026,  0.39302995],\n",
       "        [-0.97060026, -0.98602059],\n",
       "        [ 0.44681772,  1.19057459]],\n",
       "\n",
       "       [[ 1.29616665,  1.17649408],\n",
       "        [-1.20505914, -0.07799141],\n",
       "        [ 2.03296628, -0.79144658]],\n",
       "\n",
       "       [[ 1.49102703,  1.27556899],\n",
       "        [ 0.55613817, -1.3089799 ],\n",
       "        [-1.15672149, -1.40442931]],\n",
       "\n",
       "       [[-0.40622208,  0.58050292],\n",
       "        [ 0.40863178, -1.11987739],\n",
       "        [-0.11070391, -0.62461016]],\n",
       "\n",
       "       [[-0.95904481,  0.65458735],\n",
       "        [-0.30812586,  0.27642804],\n",
       "        [ 0.62298306, -0.77224663]],\n",
       "\n",
       "       [[ 0.30535888, -0.30514521],\n",
       "        [ 1.2887618 , -0.10786404],\n",
       "        [-1.00028209,  1.5368659 ]],\n",
       "\n",
       "       [[-0.24850279, -0.40507512],\n",
       "        [ 1.69950977,  1.31294302],\n",
       "        [-0.15756831,  1.47474124]],\n",
       "\n",
       "       [[-1.0298383 , -0.28327305],\n",
       "        [ 0.57521918, -0.12305196],\n",
       "        [-0.67082792, -0.6541421 ]],\n",
       "\n",
       "       [[-0.75754109, -2.23889305],\n",
       "        [-1.20181916,  2.05443979],\n",
       "        [-1.11094392,  0.14784738]],\n",
       "\n",
       "       [[-1.10565374, -0.84779687],\n",
       "        [-0.84265628,  0.07997445],\n",
       "        [ 1.10428061, -0.10315432]]])"
      ]
     },
     "execution_count": 22,
     "metadata": {},
     "output_type": "execute_result"
    }
   ],
   "source": [
    "x"
   ]
  },
  {
   "cell_type": "code",
   "execution_count": 23,
   "metadata": {},
   "outputs": [
    {
     "data": {
      "text/plain": [
       "0.9999999999999999"
      ]
     },
     "execution_count": 23,
     "metadata": {},
     "output_type": "execute_result"
    }
   ],
   "source": [
    "np.std(x)"
   ]
  },
  {
   "cell_type": "code",
   "execution_count": 54,
   "metadata": {},
   "outputs": [],
   "source": [
    "# 1. Read one data from file (e.g. using numpy.fromfile, PIL.Image.open).\n",
    "img = Image.open('hand_labels_synth/synth2/00000002.jpg')\n",
    "# 2. Preprocess the data (e.g. torchvision.Transform).\n",
    "rgb_flat = torch.transpose(torch.Tensor(img.getdata()), 0, 1)\n",
    "RGB_IMAGE = rgb_flat.view(3,368,368)\n",
    "RGB_IMAGE -= RGB_IMAGE.mean(dim=0)\n",
    "RGB_IMAGE /= RGB_IMAGE.std(dim=0)"
   ]
  },
  {
   "cell_type": "code",
   "execution_count": 55,
   "metadata": {},
   "outputs": [
    {
     "data": {
      "text/plain": [
       "tensor([[[ 1.1073,  1.1073,  1.1073,  ..., -0.8836, -0.8836, -0.8836],\n",
       "         [ 1.1073,  1.1073,  1.1073,  ..., -0.8836, -0.8836, -0.8836],\n",
       "         [ 1.1073,  1.1073,  1.1073,  ..., -0.8836, -0.8836, -0.8836],\n",
       "         ...,\n",
       "         [-0.9684, -0.9684, -0.9684,  ..., -0.1325, -0.0949, -0.0949],\n",
       "         [-0.9684, -0.9684, -0.9684,  ..., -0.1325, -0.0949, -0.0949],\n",
       "         [-0.9684, -0.9684, -0.9684,  ..., -0.1325, -0.0949, -0.0949]],\n",
       "\n",
       "        [[-0.2701, -0.2701, -0.2701,  ..., -0.2020, -0.2020, -0.2020],\n",
       "         [-0.2701, -0.2701, -0.2701,  ..., -0.2020, -0.2020, -0.2020],\n",
       "         [-0.2701, -0.2701, -0.2701,  ..., -0.2020, -0.2020, -0.2020],\n",
       "         ...,\n",
       "         [-0.0605, -0.0605, -0.0605,  ..., -0.9272, -0.9492, -0.9492],\n",
       "         [-0.0605, -0.0605, -0.0605,  ..., -0.9272, -0.9492, -0.9492],\n",
       "         [-0.0605, -0.0605, -0.0605,  ..., -0.9272, -0.9492, -0.9492]],\n",
       "\n",
       "        [[-0.8372, -0.8372, -0.8372,  ...,  1.0856,  1.0856,  1.0856],\n",
       "         [-0.8372, -0.8372, -0.8372,  ...,  1.0856,  1.0856,  1.0856],\n",
       "         [-0.8372, -0.8372, -0.8372,  ...,  1.0856,  1.0856,  1.0856],\n",
       "         ...,\n",
       "         [ 1.0289,  1.0289,  1.0289,  ...,  1.0596,  1.0441,  1.0441],\n",
       "         [ 1.0289,  1.0289,  1.0289,  ...,  1.0596,  1.0441,  1.0441],\n",
       "         [ 1.0289,  1.0289,  1.0289,  ...,  1.0596,  1.0441,  1.0441]]])"
      ]
     },
     "execution_count": 55,
     "metadata": {},
     "output_type": "execute_result"
    }
   ],
   "source": [
    "RGB_IMAGE"
   ]
  },
  {
   "cell_type": "code",
   "execution_count": 56,
   "metadata": {},
   "outputs": [],
   "source": [
    "# 1. Read one data from file (e.g. using numpy.fromfile, PIL.Image.open).\n",
    "img = Image.open('hand_labels_synth/synth2/00000002.jpg')\n",
    "# 2. Preprocess the data (e.g. torchvision.Transform).\n",
    "rgb_flat = torch.transpose(torch.Tensor(img.getdata()), 0, 1)\n",
    "RGB_IMAGE = rgb_flat.view(3,368,368)\n",
    "RGB_NORM = TF.normalize(RGB_IMAGE, mean=RGB_IMAGE.mean(dim=0), std=RGB_IMAGE.std(dim=0))"
   ]
  },
  {
   "cell_type": "code",
   "execution_count": 57,
   "metadata": {},
   "outputs": [
    {
     "data": {
      "text/plain": [
       "tensor([[[ 1.1073,  1.1073,  1.1073,  ..., -0.8836, -0.8836, -0.8836],\n",
       "         [ 1.2693,  1.2693,  1.2153,  ..., -0.8836, -0.8836, -0.8836],\n",
       "         [ 1.3774,  1.4044,  1.3774,  ..., -0.8836, -0.8836, -0.8836],\n",
       "         ...,\n",
       "         [ 1.8095,  1.8095,  1.8095,  ...,  2.2974,  2.3731,  2.4488],\n",
       "         [ 1.7555,  1.7825,  1.7825,  ...,  2.2216,  2.2974,  2.3731],\n",
       "         [ 1.7285,  1.7555,  1.7555,  ...,  2.2216,  2.2974,  2.2974]],\n",
       "\n",
       "        [[-0.4321, -0.4321, -0.3781,  ..., -0.2020, -0.2020, -0.2020],\n",
       "         [-0.2701, -0.2701, -0.2701,  ..., -0.2020, -0.2020, -0.2020],\n",
       "         [-0.1620, -0.1350, -0.1080,  ..., -0.2020, -0.2020, -0.2020],\n",
       "         ...,\n",
       "         [ 1.7825,  1.7825,  1.8365,  ...,  2.1459,  2.1459,  2.2216],\n",
       "         [ 1.7285,  1.7555,  1.8095,  ...,  2.0702,  2.0702,  2.1459],\n",
       "         [ 1.7015,  1.7285,  1.7825,  ...,  2.0702,  2.0702,  2.0702]],\n",
       "\n",
       "        [[-1.1073, -1.1343, -1.1073,  ...,  1.0856,  1.0856,  1.0856],\n",
       "         [-0.9453, -0.9723, -0.9993,  ...,  1.0856,  1.0856,  1.0856],\n",
       "         [-0.8372, -0.8372, -0.8372,  ...,  1.0856,  1.0856,  1.0856],\n",
       "         ...,\n",
       "         [ 1.8365,  1.8095,  1.8365,  ...,  2.5246,  2.6761,  2.7518],\n",
       "         [ 1.7825,  1.7825,  1.8095,  ...,  2.4488,  2.6003,  2.6761],\n",
       "         [ 1.7555,  1.7555,  1.7825,  ...,  2.4488,  2.6003,  2.6003]]])"
      ]
     },
     "execution_count": 57,
     "metadata": {},
     "output_type": "execute_result"
    }
   ],
   "source": [
    "RGB_NORM"
   ]
  },
  {
   "cell_type": "code",
   "execution_count": 69,
   "metadata": {},
   "outputs": [
    {
     "data": {
      "text/plain": [
       "torch.Size([3, 368, 368])"
      ]
     },
     "execution_count": 69,
     "metadata": {},
     "output_type": "execute_result"
    }
   ],
   "source": [
    "RGB_IMAGE.shape"
   ]
  },
  {
   "cell_type": "code",
   "execution_count": null,
   "metadata": {},
   "outputs": [],
   "source": []
  }
 ],
 "metadata": {
  "kernelspec": {
   "display_name": "Python 3",
   "language": "python",
   "name": "python3"
  },
  "language_info": {
   "codemirror_mode": {
    "name": "ipython",
    "version": 3
   },
   "file_extension": ".py",
   "mimetype": "text/x-python",
   "name": "python",
   "nbconvert_exporter": "python",
   "pygments_lexer": "ipython3",
   "version": "3.6.8"
  }
 },
 "nbformat": 4,
 "nbformat_minor": 2
}
